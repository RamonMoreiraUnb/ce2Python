{
 "cells": [
  {
   "cell_type": "markdown",
   "metadata": {},
   "source": [
    "## Odds dos times mandantes\n",
    "\n",
    "Odds são probabilidades dentro de um determinado evento, para análise será utilizado os odds da Bet365.\n",
    "Quanto mais próximo de 1, mais favorito é o time."
   ]
  },
  {
   "cell_type": "code",
   "execution_count": 20,
   "metadata": {
    "scrolled": false
   },
   "outputs": [
    {
     "name": "stdout",
     "output_type": "stream",
     "text": [
      "         holandês   português\n",
      "count  306.000000  306.000000\n",
      "mean     3.100033    2.944542\n",
      "std      2.850247    2.363847\n",
      "min      1.020000    1.080000\n",
      "25%      1.500000    1.762500\n",
      "50%      2.100000    2.140000\n",
      "75%      3.200000    2.700000\n",
      "max     17.000000   15.000000\n"
     ]
    },
    {
     "data": {
      "image/png": "[encoded data removed]",
      "text/plain": [
       "<Figure size 432x288 with 1 Axes>"
      ]
     },
     "metadata": {},
     "output_type": "display_data"
    },
    {
     "data": {
      "image/png": "[encoded data removed]",
      "text/plain": [
       "<Figure size 432x288 with 1 Axes>"
      ]
     },
     "metadata": {},
     "output_type": "display_data"
    }
   ],
   "source": [
    "import pandas as pd\n",
    "import numpy as np\n",
    "import matplotlib.pyplot as plt\n",
    "import seaborn as sns\n",
    "holandes = pd.read_csv(\"N1.csv\")\n",
    "portugues = pd.read_csv(\"P1.csv\")\n",
    "#dados = {'holandês': holanda.B365H, 'português': portugal.B365H}\n",
    "#oddH = pd.DataFrame(data=dados)\n",
    "print(oddH.describe())\n",
    "plt.hist(oddH)\n",
    "plt.show()\n",
    "sns.set_theme(style=\"whitegrid\")\n",
    "ax = sns.boxplot(data=oddH)\n",
    "\n"
   ]
  },
  {
   "cell_type": "code",
   "execution_count": 1,
   "metadata": {},
   "outputs": [
    {
     "ename": "NameError",
     "evalue": "name 'plt' is not defined",
     "output_type": "error",
     "traceback": [
      "\u001b[1;31m---------------------------------------------------------------------------\u001b[0m",
      "\u001b[1;31mNameError\u001b[0m                                 Traceback (most recent call last)",
      "\u001b[1;32m<ipython-input-1-c6877da6d6b8>\u001b[0m in \u001b[0;36m<module>\u001b[1;34m\u001b[0m\n\u001b[1;32m----> 1\u001b[1;33m \u001b[0mplt\u001b[0m\u001b[1;33m.\u001b[0m\u001b[0mstyle\u001b[0m\u001b[1;33m.\u001b[0m\u001b[0muse\u001b[0m\u001b[1;33m(\u001b[0m\u001b[1;34m'seaborn-white'\u001b[0m\u001b[1;33m)\u001b[0m\u001b[1;33m\u001b[0m\u001b[1;33m\u001b[0m\u001b[0m\n\u001b[0m\u001b[0;32m      2\u001b[0m \u001b[1;33m\u001b[0m\u001b[0m\n\u001b[0;32m      3\u001b[0m \u001b[0moddH\u001b[0m \u001b[1;33m=\u001b[0m \u001b[1;33m[\u001b[0m\u001b[0mholandes\u001b[0m\u001b[1;33m.\u001b[0m\u001b[0mB365H\u001b[0m\u001b[1;33m,\u001b[0m \u001b[0mportugues\u001b[0m\u001b[1;33m.\u001b[0m\u001b[0mB365H\u001b[0m\u001b[1;33m]\u001b[0m\u001b[1;33m\u001b[0m\u001b[1;33m\u001b[0m\u001b[0m\n\u001b[0;32m      4\u001b[0m \u001b[0mcores\u001b[0m \u001b[1;33m=\u001b[0m \u001b[1;33m[\u001b[0m\u001b[1;34m\"orange\"\u001b[0m\u001b[1;33m,\u001b[0m \u001b[1;34m\"black\"\u001b[0m\u001b[1;33m]\u001b[0m\u001b[1;33m\u001b[0m\u001b[1;33m\u001b[0m\u001b[0m\n\u001b[0;32m      5\u001b[0m \u001b[0mlegendas\u001b[0m \u001b[1;33m=\u001b[0m \u001b[1;33m[\u001b[0m\u001b[1;34m\"Holandês\"\u001b[0m\u001b[1;33m,\u001b[0m \u001b[1;34m\"Português\"\u001b[0m\u001b[1;33m]\u001b[0m\u001b[1;33m\u001b[0m\u001b[1;33m\u001b[0m\u001b[0m\n",
      "\u001b[1;31mNameError\u001b[0m: name 'plt' is not defined"
     ]
    }
   ],
   "source": [
    "plt.style.use('seaborn-white')\n",
    "\n",
    "oddH = [holandes.B365H, portugues.B365H]\n",
    "cores = [\"orange\", \"black\"]\n",
    "legendas = [\"Holandês\", \"Português\"]\n",
    "\n",
    "fig, ax = plt.subplots(figsize = (11,5))\n",
    "\n",
    "for i in range(2):\n",
    "    ax.boxplot(oddH[i], patch_artist = True, positions = [i + 1], \n",
    "                               boxprops = dict(facecolor = cores[i], color = cores[i + 1]),\n",
    "                               capprops = dict(color = cores[i + 1]),\n",
    "                               whiskerprops = dict(color = cores[i + 1]),\n",
    "                               flierprops = dict(color = cores[i + 1], markeredgecolor = cores[i + 1]),\n",
    "                               medianprops = dict(color = cores[i + 1]))\n",
    "    if i == 0:\n",
    "        cores[1] = \"#7E0008\"\n",
    "        cores.append(\"#006400\")\n",
    "ax.set_title('Odds dos mandantes')\n",
    "ax.set_xticklabels(['Holandês', 'Português'])\n",
    "plt.show()\n",
    "\n",
    "#fig, ax = plt.subplots(figsize = (11,5))\n",
    "#colors = ['red', 'tan']\n",
    "#ax.hist(oddH, density=True, histtype='bar', color=cores, label=cores)\n",
    "#ax.legend(prop={'size': 10})\n",
    "#ax.set_title('bars with legend')\n",
    "#plt.show()"
   ]
  },
  {
   "cell_type": "markdown",
   "metadata": {},
   "source": [
    "Através do histograma vemos que a maior parte dos odds estão próximo de 2(50% de chance de vitória), é de se esperar que a equipe mandante tenha mais chances de vitória. Pelo boxplot é possível notar vários outliers, com odds que passam de 10(10% de chance de vitória), provavelmente são partidas depois da primeira metade do campeonato, onde equipes que estão brigando pelo título enfrentam adversários da parte de baixo da tabela. O valor mínimo mostra uma partida extremamente favorável para a equipe mandante(98% de chance de vitória no holandês e 92,6% no português), já o valor máximo mostra o contrário, uma partida onde a equipe mandante tem a menor probabilidade de vitória(5,9% no holandês e 6,7% no português).\n",
    "\n",
    "Quando comparamos as duas ligas, é possível notar uma maior variabilidade dos odds no campeonato Holandês. Além disso, nota-se que o valor do primeiro quartil é menor no campeonato holandês do que no português, isso mostra que em 25% dos jogos a equipe mandante teve mais de 66% de chance de vitória no campeonato holandês, contra 57% no português. O valor da mediana está bem próximo, já o terceiro quartil mostra que as equipes mandantes que não são favoritas para vencer o jogo têm mais chances no campeonato português do que no holandês."
   ]
  },
  {
   "cell_type": "markdown",
   "metadata": {},
   "source": [
    "## Odds dos times visitantes\n",
    "Agora veremos as probabilidades de uma equipe visitante sair vencedora."
   ]
  },
  {
   "cell_type": "code",
   "execution_count": 13,
   "metadata": {
    "scrolled": false
   },
   "outputs": [
    {
     "name": "stdout",
     "output_type": "stream",
     "text": [
      "         holandês   português\n",
      "count  306.000000  306.000000\n",
      "mean     5.377484    4.923954\n",
      "std      5.915622    4.217440\n",
      "min      1.080000    1.160000\n",
      "25%      2.072500    2.605000\n",
      "50%      3.300000    3.600000\n",
      "75%      6.000000    4.750000\n",
      "max     41.000000   21.000000\n"
     ]
    },
    {
     "data": {
      "image/png": "[encoded data removed]",
      "text/plain": [
       "<Figure size 432x288 with 1 Axes>"
      ]
     },
     "metadata": {},
     "output_type": "display_data"
    },
    {
     "data": {
      "image/png": "[encoded data removed]",
      "text/plain": [
       "<Figure size 432x288 with 1 Axes>"
      ]
     },
     "metadata": {},
     "output_type": "display_data"
    }
   ],
   "source": [
    "dados = {'holandês': holanda.B365A, 'português': portugal.B365A}\n",
    "oddA = pd.DataFrame(data=dados)\n",
    "print(oddA.describe())\n",
    "plt.hist(oddA)\n",
    "plt.show()\n",
    "sns.set_theme(style=\"whitegrid\")\n",
    "ax = sns.boxplot(data=oddA)\n",
    "#import statistics\n",
    "#statistics.median(oddA)\n"
   ]
  },
  {
   "cell_type": "markdown",
   "metadata": {},
   "source": [
    "Já com as equipes visitantes os valores dos odds estão próximos de 3.5(28.6% de chance de vitória) e a variabilidade no campeonato holandês continua maior. A distribuição é parecida com o das equipes mandantes, porém aqui os odds são maiores, com o primeiro quartil acima de 2 em ambos campeonatos. É interessante notar que a diferença no terceiro quartil aumentou consideravelmente, além disso vemos outliers mais extremos no campeonato holandês.   "
   ]
  },
  {
   "cell_type": "markdown",
   "metadata": {},
   "source": [
    "## Odds para empate\n"
   ]
  },
  {
   "cell_type": "code",
   "execution_count": 19,
   "metadata": {
    "scrolled": false
   },
   "outputs": [
    {
     "name": "stdout",
     "output_type": "stream",
     "text": [
      "         holandês   português\n",
      "count  306.000000  306.000000\n",
      "mean     4.789837    4.019575\n",
      "std      2.122593    1.352653\n",
      "min      3.250000    3.000000\n",
      "25%      3.600000    3.200000\n",
      "50%      4.000000    3.400000\n",
      "75%      5.000000    4.500000\n",
      "max     17.000000   11.000000\n"
     ]
    },
    {
     "data": {
      "image/png": "[encoded data removed]",
      "text/plain": [
       "<Figure size 432x288 with 1 Axes>"
      ]
     },
     "metadata": {},
     "output_type": "display_data"
    },
    {
     "data": {
      "image/png": "[encoded data removed]",
      "text/plain": [
       "<Figure size 432x288 with 1 Axes>"
      ]
     },
     "metadata": {},
     "output_type": "display_data"
    }
   ],
   "source": [
    "dados = {'holandês': holanda.B365D, 'português': portugal.B365D}\n",
    "oddD = pd.DataFrame(data=dados)\n",
    "print(oddD.describe())\n",
    "plt.hist(oddD)\n",
    "plt.show()\n",
    "sns.set_theme(style=\"whitegrid\")\n",
    "ax = sns.boxplot(data=oddD)\n"
   ]
  },
  {
   "cell_type": "markdown",
   "metadata": {},
   "source": [
    "Com relação ao empate, os odds são mais altos(a chance de ocorrer é menor) e grande parte está em torno de 4(25% de chance de ocorrer empate). Algo que chama a atenção é que a maior probabilidade de ocorrer empate foi de algo em torno de 30% para os dois campeonatos.\n",
    "Comparando as 2 ligas vemos que as chances de ocorrer empate na liga portuguesa é maior, com uma variabilidade menor. Isto pode ocorrer por conta do ataque, defesa ou nível semelhante das equipes. Uma análise de outras variáveis pode esclarecer este assunto."
   ]
  },
  {
   "cell_type": "markdown",
   "metadata": {},
   "source": [
    "## Disciplina"
   ]
  },
  {
   "cell_type": "code",
   "execution_count": 19,
   "metadata": {},
   "outputs": [
    {
     "data": {
      "text/html": [
       "<div>\n",
       "<style scoped>\n",
       "    .dataframe tbody tr th:only-of-type {\n",
       "        vertical-align: middle;\n",
       "    }\n",
       "\n",
       "    .dataframe tbody tr th {\n",
       "        vertical-align: top;\n",
       "    }\n",
       "\n",
       "    .dataframe thead th {\n",
       "        text-align: right;\n",
       "    }\n",
       "</style>\n",
       "<table border=\"1\" class=\"dataframe\">\n",
       "  <thead>\n",
       "    <tr style=\"text-align: right;\">\n",
       "      <th></th>\n",
       "      <th>Eredivisie</th>\n",
       "      <th>Primeira Liga</th>\n",
       "    </tr>\n",
       "  </thead>\n",
       "  <tbody>\n",
       "    <tr>\n",
       "      <th>Cartões amarelos Mandantes</th>\n",
       "      <td>415</td>\n",
       "      <td>690</td>\n",
       "    </tr>\n",
       "    <tr>\n",
       "      <th>Cartões amarelos Visitantes</th>\n",
       "      <td>510</td>\n",
       "      <td>804</td>\n",
       "    </tr>\n",
       "    <tr>\n",
       "      <th>Cartões vermelhos Mandantes</th>\n",
       "      <td>27</td>\n",
       "      <td>46</td>\n",
       "    </tr>\n",
       "    <tr>\n",
       "      <th>Cartões vermelhos visitantes</th>\n",
       "      <td>40</td>\n",
       "      <td>52</td>\n",
       "    </tr>\n",
       "  </tbody>\n",
       "</table>\n",
       "</div>"
      ],
      "text/plain": [
       "                              Eredivisie  Primeira Liga\n",
       "Cartões amarelos Mandantes           415            690\n",
       "Cartões amarelos Visitantes          510            804\n",
       "Cartões vermelhos Mandantes           27             46\n",
       "Cartões vermelhos visitantes          40             52"
      ]
     },
     "execution_count": 19,
     "metadata": {},
     "output_type": "execute_result"
    }
   ],
   "source": [
    "#HY  = {'holandês': sum(holanda.HY), 'português': sum(portugal.HY)}\n",
    "#AY = {'holandês': sum(holanda.AY), 'português': sum(portugal.AY)}\n",
    "#HR = {'holandês': sum(holanda.HR), 'português': sum(portugal.HR)}\n",
    "#AR = {'holandês': sum(holanda.AR), 'português': sum(portugal.AR)}\n",
    "#HC = {'holandês': sum(holanda.HC)/306, 'português': sum(portugal.HC)/306}\n",
    "#AC = {'holandês': sum(holanda.AC)/306, 'português': sum(portugal.AC)/306}\n",
    "\n",
    "#dados = {'Liga Nacional': [\"Eredivisie\", \"Primeira Liga\"], 'Cartões amarelos Mandantes': [sum(holanda.HY),sum(portugal.HY)],'Cartões amarelos Visitantes': [sum(holanda.AY),sum(portugal.AY)],\n",
    "         #'Cartões vermelhos Mandantes': [sum(holanda.HR),sum(portugal.HR)],'Cartões vermelhos visitantes': [sum(holanda.AR),sum(portugal.AR)]}\n",
    "  \n",
    "dados1 = {\"Eredivisie\": [sum(holanda.HY),sum(holanda.AY),sum(holanda.HR),sum(holanda.AR)], \"Primeira Liga\": [sum(portugal.HY),sum(portugal.AY),sum(portugal.HR),sum(portugal.AR)]}\n",
    "df = pd.DataFrame(dados1, index =['Cartões amarelos Mandantes','Cartões amarelos Visitantes','Cartões vermelhos Mandantes','Cartões vermelhos visitantes'],)  \n",
    "df"
   ]
  },
  {
   "cell_type": "markdown",
   "metadata": {},
   "source": [
    "Em todos os quesitos a Primeira liga teve valores maiores que a Eredivisie, isso pode indicar que o campeonato português tenha jogos mais físicos ou a tolerância dos arbitros em relação à faltas seja menor em Portugal."
   ]
  },
  {
   "cell_type": "code",
   "execution_count": null,
   "metadata": {},
   "outputs": [],
   "source": []
  }
 ],
 "metadata": {
  "kernelspec": {
   "display_name": "Python 3",
   "language": "python",
   "name": "python3"
  },
  "language_info": {
   "codemirror_mode": {
    "name": "ipython",
    "version": 3
   },
   "file_extension": ".py",
   "mimetype": "text/x-python",
   "name": "python",
   "nbconvert_exporter": "python",
   "pygments_lexer": "ipython3",
   "version": "3.8.5"
  }
 },
 "nbformat": 4,
 "nbformat_minor": 4
}
