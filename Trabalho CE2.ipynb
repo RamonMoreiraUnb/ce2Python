{
 "cells": [
  {
   "cell_type": "markdown",
   "metadata": {},
   "source": [
    "# Trabalho CE2 - Eredivisie vs Primeira Liga\n",
    "\n",
    "Professor Eduardo Monteiro\n",
    "\n",
    "Matheus Erbisti - 180024990\n",
    "\n",
    "Ramon Moreira - 180036980"
   ]
  },
  {
   "cell_type": "markdown",
   "metadata": {},
   "source": [
    "## Introdução"
   ]
  },
  {
   "cell_type": "markdown",
   "metadata": {},
   "source": [
    "É de amplo conhecimento que as melhores ligas nacionais de futebol da Europa são da Inglaterra (Premier League), Espanha (La Liga), Itália (Serie A), Alemanha (Bundesliga) e França (Ligue One); para efeito demonstrativo, a última conquista da Champions League (torneio continental dos melhores clubes europeus) por um time fora desse top 5 foi em 2003/04.\n",
    "\n",
    "Nesse contexto, o objetivo desse seminário é descobrir qual seria a 6ª melhor liga da Europa. Devido à história e tradição dos times, escolhemos o campeonato holandês (Eredivisie) e português (Primeira Liga) para concorrer nessa posição.\n",
    "\n",
    "Ambos os bancos de dados e suas informações foram tirados do site www.football-data.co.uk, referentes à temporada 2018/2019 dos dois campeonatos. Não foram feitas mudanças significativas como limpeza de dados, apenas criações de novas variáveis que serão detalhadas à frente."
   ]
  },
  {
   "cell_type": "markdown",
   "metadata": {},
   "source": [
    "### Importação de Pacotes e Dados"
   ]
  },
  {
   "cell_type": "markdown",
   "metadata": {},
   "source": [
    "Aqui estão todos os pacotes e os bancos de dados utilizados."
   ]
  },
  {
   "cell_type": "code",
   "execution_count": 105,
   "metadata": {},
   "outputs": [],
   "source": [
    "from matplotlib import pyplot as plt\n",
    "import pandas as pd\n",
    "import numpy as np\n",
    "import warnings\n",
    "import scipy.stats as est\n",
    "\n",
    "holandes = pd.read_csv(\"Holandes.csv\")\n",
    "portugues = pd.read_csv(\"Portugues.csv\")\n",
    "\n",
    "warnings.filterwarnings(\"ignore\")"
   ]
  },
  {
   "cell_type": "markdown",
   "metadata": {},
   "source": [
    "Os dois bancos de dados tem uma estrutura de 306 linhas por 61 colunas, isso é, 61 variáveis e 306 observações. Contudo, nem todas as variáveis serão utilizadas; segue uma lista e breve explicação das variáveis mais importantes:\n",
    "\n",
    "* HomeTeam e AwayTeam - Identificação das equipes mandantes e visitantes da partida (Variável qualitativa).\n",
    "\n",
    "* FTHG e FTAG (Full Time Home/Away Goals) - Total de gols na partida da equipe da casa e dos visitantes (Variável quantitativa discreta).\n",
    "\n",
    "* FTR (Full Time Result) - Qual time ganhou a partida (Variável qualitativa).\n",
    "\n",
    "* HS e AS (Home/Away Shots) - Quantidade de chute do time mandante ou visitante na partida (Variável quantitativa discreta).\n",
    "\n",
    "* HST e AST (Home/Away Shots on Target) - Quantidades de chute do time mandante ou visitante que foram no gol durante a partida (Variável quantitativa discreta).\n",
    "\n",
    "* HY, HR, AY e AR (Home/Away Yellow/Red Cards) - Número de cartões amarelo ou vermelho que o time mandante ou visitante receberam durante a partida (Variável quantitativa discreta).\n",
    "\n",
    "* HF e AF (Home/Away Fouls) - Número de faltas cometidas pelo time da casa ou de fora (Variável quantitativa discreta).\n",
    "\n",
    "* B365H, B365A e B365D - \"Odds\" fornecido pelo site Bet365 sobre o time vencedor ser o mandante, visitante ou dar empate (Variável quantitativa contínua). \n"
   ]
  },
  {
   "cell_type": "code",
   "execution_count": 106,
   "metadata": {},
   "outputs": [
    {
     "data": {
      "text/html": [
       "<div>\n",
       "<style scoped>\n",
       "    .dataframe tbody tr th:only-of-type {\n",
       "        vertical-align: middle;\n",
       "    }\n",
       "\n",
       "    .dataframe tbody tr th {\n",
       "        vertical-align: top;\n",
       "    }\n",
       "\n",
       "    .dataframe thead th {\n",
       "        text-align: right;\n",
       "    }\n",
       "</style>\n",
       "<table border=\"1\" class=\"dataframe\">\n",
       "  <thead>\n",
       "    <tr style=\"text-align: right;\">\n",
       "      <th></th>\n",
       "      <th>Div</th>\n",
       "      <th>Date</th>\n",
       "      <th>HomeTeam</th>\n",
       "      <th>AwayTeam</th>\n",
       "      <th>FTHG</th>\n",
       "      <th>FTAG</th>\n",
       "      <th>FTR</th>\n",
       "      <th>HTHG</th>\n",
       "      <th>HTAG</th>\n",
       "      <th>HTR</th>\n",
       "      <th>...</th>\n",
       "      <th>BbAv&lt;2.5</th>\n",
       "      <th>BbAH</th>\n",
       "      <th>BbAHh</th>\n",
       "      <th>BbMxAHH</th>\n",
       "      <th>BbAvAHH</th>\n",
       "      <th>BbMxAHA</th>\n",
       "      <th>BbAvAHA</th>\n",
       "      <th>PSCH</th>\n",
       "      <th>PSCD</th>\n",
       "      <th>PSCA</th>\n",
       "    </tr>\n",
       "  </thead>\n",
       "  <tbody>\n",
       "    <tr>\n",
       "      <th>0</th>\n",
       "      <td>N1</td>\n",
       "      <td>10/08/2018</td>\n",
       "      <td>Zwolle</td>\n",
       "      <td>Heerenveen</td>\n",
       "      <td>2</td>\n",
       "      <td>3</td>\n",
       "      <td>A</td>\n",
       "      <td>1</td>\n",
       "      <td>3</td>\n",
       "      <td>A</td>\n",
       "      <td>...</td>\n",
       "      <td>2.22</td>\n",
       "      <td>16</td>\n",
       "      <td>-0.25</td>\n",
       "      <td>2.26</td>\n",
       "      <td>2.17</td>\n",
       "      <td>1.84</td>\n",
       "      <td>1.71</td>\n",
       "      <td>2.93</td>\n",
       "      <td>3.58</td>\n",
       "      <td>2.43</td>\n",
       "    </tr>\n",
       "    <tr>\n",
       "      <th>1</th>\n",
       "      <td>N1</td>\n",
       "      <td>11/08/2018</td>\n",
       "      <td>Ajax</td>\n",
       "      <td>Heracles</td>\n",
       "      <td>1</td>\n",
       "      <td>1</td>\n",
       "      <td>D</td>\n",
       "      <td>0</td>\n",
       "      <td>0</td>\n",
       "      <td>D</td>\n",
       "      <td>...</td>\n",
       "      <td>3.55</td>\n",
       "      <td>20</td>\n",
       "      <td>-2.50</td>\n",
       "      <td>2.06</td>\n",
       "      <td>1.99</td>\n",
       "      <td>1.91</td>\n",
       "      <td>1.84</td>\n",
       "      <td>1.13</td>\n",
       "      <td>9.75</td>\n",
       "      <td>20.82</td>\n",
       "    </tr>\n",
       "    <tr>\n",
       "      <th>2</th>\n",
       "      <td>N1</td>\n",
       "      <td>11/08/2018</td>\n",
       "      <td>Excelsior</td>\n",
       "      <td>For Sittard</td>\n",
       "      <td>1</td>\n",
       "      <td>1</td>\n",
       "      <td>D</td>\n",
       "      <td>1</td>\n",
       "      <td>0</td>\n",
       "      <td>H</td>\n",
       "      <td>...</td>\n",
       "      <td>2.14</td>\n",
       "      <td>19</td>\n",
       "      <td>-0.25</td>\n",
       "      <td>1.88</td>\n",
       "      <td>1.84</td>\n",
       "      <td>2.06</td>\n",
       "      <td>2.00</td>\n",
       "      <td>2.35</td>\n",
       "      <td>3.50</td>\n",
       "      <td>3.11</td>\n",
       "    </tr>\n",
       "    <tr>\n",
       "      <th>3</th>\n",
       "      <td>N1</td>\n",
       "      <td>11/08/2018</td>\n",
       "      <td>PSV Eindhoven</td>\n",
       "      <td>Utrecht</td>\n",
       "      <td>4</td>\n",
       "      <td>0</td>\n",
       "      <td>H</td>\n",
       "      <td>1</td>\n",
       "      <td>0</td>\n",
       "      <td>H</td>\n",
       "      <td>...</td>\n",
       "      <td>2.52</td>\n",
       "      <td>20</td>\n",
       "      <td>-1.25</td>\n",
       "      <td>1.96</td>\n",
       "      <td>1.91</td>\n",
       "      <td>1.97</td>\n",
       "      <td>1.93</td>\n",
       "      <td>1.38</td>\n",
       "      <td>5.06</td>\n",
       "      <td>9.24</td>\n",
       "    </tr>\n",
       "    <tr>\n",
       "      <th>4</th>\n",
       "      <td>N1</td>\n",
       "      <td>11/08/2018</td>\n",
       "      <td>Willem II</td>\n",
       "      <td>VVV Venlo</td>\n",
       "      <td>0</td>\n",
       "      <td>1</td>\n",
       "      <td>A</td>\n",
       "      <td>0</td>\n",
       "      <td>1</td>\n",
       "      <td>A</td>\n",
       "      <td>...</td>\n",
       "      <td>1.90</td>\n",
       "      <td>20</td>\n",
       "      <td>-0.25</td>\n",
       "      <td>2.07</td>\n",
       "      <td>2.01</td>\n",
       "      <td>1.88</td>\n",
       "      <td>1.83</td>\n",
       "      <td>2.27</td>\n",
       "      <td>3.48</td>\n",
       "      <td>3.27</td>\n",
       "    </tr>\n",
       "  </tbody>\n",
       "</table>\n",
       "<p>5 rows × 61 columns</p>\n",
       "</div>"
      ],
      "text/plain": [
       "  Div        Date       HomeTeam     AwayTeam  FTHG  FTAG FTR  HTHG  HTAG HTR  \\\n",
       "0  N1  10/08/2018         Zwolle   Heerenveen     2     3   A     1     3   A   \n",
       "1  N1  11/08/2018           Ajax     Heracles     1     1   D     0     0   D   \n",
       "2  N1  11/08/2018      Excelsior  For Sittard     1     1   D     1     0   H   \n",
       "3  N1  11/08/2018  PSV Eindhoven      Utrecht     4     0   H     1     0   H   \n",
       "4  N1  11/08/2018      Willem II    VVV Venlo     0     1   A     0     1   A   \n",
       "\n",
       "   ...  BbAv<2.5  BbAH  BbAHh  BbMxAHH  BbAvAHH  BbMxAHA  BbAvAHA  PSCH  PSCD  \\\n",
       "0  ...      2.22    16  -0.25     2.26     2.17     1.84     1.71  2.93  3.58   \n",
       "1  ...      3.55    20  -2.50     2.06     1.99     1.91     1.84  1.13  9.75   \n",
       "2  ...      2.14    19  -0.25     1.88     1.84     2.06     2.00  2.35  3.50   \n",
       "3  ...      2.52    20  -1.25     1.96     1.91     1.97     1.93  1.38  5.06   \n",
       "4  ...      1.90    20  -0.25     2.07     2.01     1.88     1.83  2.27  3.48   \n",
       "\n",
       "    PSCA  \n",
       "0   2.43  \n",
       "1  20.82  \n",
       "2   3.11  \n",
       "3   9.24  \n",
       "4   3.27  \n",
       "\n",
       "[5 rows x 61 columns]"
      ]
     },
     "execution_count": 106,
     "metadata": {},
     "output_type": "execute_result"
    }
   ],
   "source": [
    "holandes.head()"
   ]
  },
  {
   "cell_type": "code",
   "execution_count": 107,
   "metadata": {},
   "outputs": [
    {
     "data": {
      "text/html": [
       "<div>\n",
       "<style scoped>\n",
       "    .dataframe tbody tr th:only-of-type {\n",
       "        vertical-align: middle;\n",
       "    }\n",
       "\n",
       "    .dataframe tbody tr th {\n",
       "        vertical-align: top;\n",
       "    }\n",
       "\n",
       "    .dataframe thead th {\n",
       "        text-align: right;\n",
       "    }\n",
       "</style>\n",
       "<table border=\"1\" class=\"dataframe\">\n",
       "  <thead>\n",
       "    <tr style=\"text-align: right;\">\n",
       "      <th></th>\n",
       "      <th>Div</th>\n",
       "      <th>Date</th>\n",
       "      <th>HomeTeam</th>\n",
       "      <th>AwayTeam</th>\n",
       "      <th>FTHG</th>\n",
       "      <th>FTAG</th>\n",
       "      <th>FTR</th>\n",
       "      <th>HTHG</th>\n",
       "      <th>HTAG</th>\n",
       "      <th>HTR</th>\n",
       "      <th>...</th>\n",
       "      <th>BbAv&lt;2.5</th>\n",
       "      <th>BbAH</th>\n",
       "      <th>BbAHh</th>\n",
       "      <th>BbMxAHH</th>\n",
       "      <th>BbAvAHH</th>\n",
       "      <th>BbMxAHA</th>\n",
       "      <th>BbAvAHA</th>\n",
       "      <th>PSCH</th>\n",
       "      <th>PSCD</th>\n",
       "      <th>PSCA</th>\n",
       "    </tr>\n",
       "  </thead>\n",
       "  <tbody>\n",
       "    <tr>\n",
       "      <th>0</th>\n",
       "      <td>P1</td>\n",
       "      <td>10/08/2018</td>\n",
       "      <td>Benfica</td>\n",
       "      <td>Guimaraes</td>\n",
       "      <td>3</td>\n",
       "      <td>2</td>\n",
       "      <td>H</td>\n",
       "      <td>3</td>\n",
       "      <td>0</td>\n",
       "      <td>H</td>\n",
       "      <td>...</td>\n",
       "      <td>2.44</td>\n",
       "      <td>20</td>\n",
       "      <td>-1.75</td>\n",
       "      <td>2.05</td>\n",
       "      <td>1.98</td>\n",
       "      <td>1.90</td>\n",
       "      <td>1.85</td>\n",
       "      <td>1.28</td>\n",
       "      <td>5.69</td>\n",
       "      <td>14.77</td>\n",
       "    </tr>\n",
       "    <tr>\n",
       "      <th>1</th>\n",
       "      <td>P1</td>\n",
       "      <td>11/08/2018</td>\n",
       "      <td>Porto</td>\n",
       "      <td>Chaves</td>\n",
       "      <td>5</td>\n",
       "      <td>0</td>\n",
       "      <td>H</td>\n",
       "      <td>3</td>\n",
       "      <td>0</td>\n",
       "      <td>H</td>\n",
       "      <td>...</td>\n",
       "      <td>2.49</td>\n",
       "      <td>21</td>\n",
       "      <td>-2.00</td>\n",
       "      <td>2.01</td>\n",
       "      <td>1.94</td>\n",
       "      <td>1.93</td>\n",
       "      <td>1.88</td>\n",
       "      <td>1.18</td>\n",
       "      <td>8.08</td>\n",
       "      <td>19.26</td>\n",
       "    </tr>\n",
       "    <tr>\n",
       "      <th>2</th>\n",
       "      <td>P1</td>\n",
       "      <td>11/08/2018</td>\n",
       "      <td>Setubal</td>\n",
       "      <td>Aves</td>\n",
       "      <td>2</td>\n",
       "      <td>0</td>\n",
       "      <td>H</td>\n",
       "      <td>1</td>\n",
       "      <td>0</td>\n",
       "      <td>H</td>\n",
       "      <td>...</td>\n",
       "      <td>1.56</td>\n",
       "      <td>20</td>\n",
       "      <td>-0.25</td>\n",
       "      <td>2.03</td>\n",
       "      <td>1.98</td>\n",
       "      <td>1.91</td>\n",
       "      <td>1.85</td>\n",
       "      <td>2.41</td>\n",
       "      <td>3.14</td>\n",
       "      <td>3.42</td>\n",
       "    </tr>\n",
       "    <tr>\n",
       "      <th>3</th>\n",
       "      <td>P1</td>\n",
       "      <td>11/08/2018</td>\n",
       "      <td>Tondela</td>\n",
       "      <td>Belenenses</td>\n",
       "      <td>0</td>\n",
       "      <td>1</td>\n",
       "      <td>A</td>\n",
       "      <td>0</td>\n",
       "      <td>0</td>\n",
       "      <td>D</td>\n",
       "      <td>...</td>\n",
       "      <td>1.58</td>\n",
       "      <td>20</td>\n",
       "      <td>-0.25</td>\n",
       "      <td>1.93</td>\n",
       "      <td>1.88</td>\n",
       "      <td>2.01</td>\n",
       "      <td>1.95</td>\n",
       "      <td>2.23</td>\n",
       "      <td>3.38</td>\n",
       "      <td>3.54</td>\n",
       "    </tr>\n",
       "    <tr>\n",
       "      <th>4</th>\n",
       "      <td>P1</td>\n",
       "      <td>12/08/2018</td>\n",
       "      <td>Feirense</td>\n",
       "      <td>Rio Ave</td>\n",
       "      <td>2</td>\n",
       "      <td>0</td>\n",
       "      <td>H</td>\n",
       "      <td>2</td>\n",
       "      <td>0</td>\n",
       "      <td>H</td>\n",
       "      <td>...</td>\n",
       "      <td>1.58</td>\n",
       "      <td>19</td>\n",
       "      <td>0.00</td>\n",
       "      <td>2.11</td>\n",
       "      <td>2.02</td>\n",
       "      <td>1.87</td>\n",
       "      <td>1.81</td>\n",
       "      <td>2.59</td>\n",
       "      <td>3.14</td>\n",
       "      <td>3.11</td>\n",
       "    </tr>\n",
       "  </tbody>\n",
       "</table>\n",
       "<p>5 rows × 61 columns</p>\n",
       "</div>"
      ],
      "text/plain": [
       "  Div        Date  HomeTeam    AwayTeam  FTHG  FTAG FTR  HTHG  HTAG HTR  ...  \\\n",
       "0  P1  10/08/2018   Benfica   Guimaraes     3     2   H     3     0   H  ...   \n",
       "1  P1  11/08/2018     Porto      Chaves     5     0   H     3     0   H  ...   \n",
       "2  P1  11/08/2018   Setubal        Aves     2     0   H     1     0   H  ...   \n",
       "3  P1  11/08/2018   Tondela  Belenenses     0     1   A     0     0   D  ...   \n",
       "4  P1  12/08/2018  Feirense     Rio Ave     2     0   H     2     0   H  ...   \n",
       "\n",
       "   BbAv<2.5  BbAH  BbAHh  BbMxAHH  BbAvAHH  BbMxAHA  BbAvAHA  PSCH  PSCD  \\\n",
       "0      2.44    20  -1.75     2.05     1.98     1.90     1.85  1.28  5.69   \n",
       "1      2.49    21  -2.00     2.01     1.94     1.93     1.88  1.18  8.08   \n",
       "2      1.56    20  -0.25     2.03     1.98     1.91     1.85  2.41  3.14   \n",
       "3      1.58    20  -0.25     1.93     1.88     2.01     1.95  2.23  3.38   \n",
       "4      1.58    19   0.00     2.11     2.02     1.87     1.81  2.59  3.14   \n",
       "\n",
       "    PSCA  \n",
       "0  14.77  \n",
       "1  19.26  \n",
       "2   3.42  \n",
       "3   3.54  \n",
       "4   3.11  \n",
       "\n",
       "[5 rows x 61 columns]"
      ]
     },
     "execution_count": 107,
     "metadata": {},
     "output_type": "execute_result"
    }
   ],
   "source": [
    "portugues.head()"
   ]
  },
  {
   "cell_type": "markdown",
   "metadata": {},
   "source": [
    "## Análise Descritiva"
   ]
  },
  {
   "cell_type": "markdown",
   "metadata": {},
   "source": [
    "### Odds de vitória"
   ]
  },
  {
   "cell_type": "markdown",
   "metadata": {},
   "source": [
    "Odds são probabilidades dentro de um determinado evento, para análise será utilizado os odds da Bet365.\n",
    "Quanto mais próximo de 1, mais favorito é o time."
   ]
  },
  {
   "cell_type": "code",
   "execution_count": 108,
   "metadata": {
    "scrolled": true
   },
   "outputs": [
    {
     "data": {
      "image/png": "[encoded data removed]",
      "text/plain": [
       "<Figure size 648x576 with 4 Axes>"
      ]
     },
     "metadata": {},
     "output_type": "display_data"
    }
   ],
   "source": [
    "oddH = [holandes.B365H, portugues.B365H]\n",
    "oddA = [holandes.B365A, portugues.B365A]\n",
    "\n",
    "\n",
    "\n",
    "fig, ((graf1, graf2), (graf3, graf4)) = plt.subplots(nrows = 2, ncols = 2, figsize = (9, 8))\n",
    "\n",
    "hist = (graf1, graf2)\n",
    "odds = [[holandes.B365H, portugues.B365H], [holandes.B365A, portugues.B365A]]\n",
    "local = [\"mandantes\", \"visitantes\"]\n",
    "\n",
    "for i in range(2):\n",
    "    hist[i].hist(odds[i], color = [\"orange\", \"#7E0008\"])\n",
    "    hist[i].set_ylim(0, 250)\n",
    "    hist[i].set_title(str(\"Odds de times \" + local[i]))\n",
    "\n",
    "\n",
    "cores = [\"orange\", \"#7E0008\", \"black\", \"#006400\"]\n",
    "boxs = (graf3, graf4)\n",
    "\n",
    "for i in range(2):\n",
    "    for j in range(2):\n",
    "        boxs[j].boxplot(odds[j][i], patch_artist = True, positions = [i + 1], \n",
    "                               boxprops = dict(facecolor = cores[i], color = cores[i + 2]),\n",
    "                               capprops = dict(color = cores[i + 2]),\n",
    "                               whiskerprops = dict(color = cores[i + 2]),\n",
    "                               flierprops = dict(color = cores[i + 2], markeredgecolor = cores[i + 2]),\n",
    "                               medianprops = dict(color = cores[i + 2]))\n",
    "\n",
    "\n",
    "for i in (graf1, graf3):\n",
    "    i.set_ylabel(\"Frequência\")\n",
    "\n",
    "\n",
    "for i in range(2):\n",
    "    boxs[i].set_xticklabels(['Holandês', 'Português'])\n",
    "\n",
    "\n",
    "\n",
    "plt.show()"
   ]
  },
  {
   "cell_type": "code",
   "execution_count": 109,
   "metadata": {},
   "outputs": [
    {
     "data": {
      "text/html": [
       "<div>\n",
       "<style scoped>\n",
       "    .dataframe tbody tr th:only-of-type {\n",
       "        vertical-align: middle;\n",
       "    }\n",
       "\n",
       "    .dataframe tbody tr th {\n",
       "        vertical-align: top;\n",
       "    }\n",
       "\n",
       "    .dataframe thead th {\n",
       "        text-align: right;\n",
       "    }\n",
       "</style>\n",
       "<table border=\"1\" class=\"dataframe\">\n",
       "  <thead>\n",
       "    <tr style=\"text-align: right;\">\n",
       "      <th></th>\n",
       "      <th>holandes_casa</th>\n",
       "      <th>portugues_casa</th>\n",
       "      <th>holandes_fora</th>\n",
       "      <th>portugues_fora</th>\n",
       "    </tr>\n",
       "  </thead>\n",
       "  <tbody>\n",
       "    <tr>\n",
       "      <th>count</th>\n",
       "      <td>306.000000</td>\n",
       "      <td>306.000000</td>\n",
       "      <td>306.000000</td>\n",
       "      <td>306.000000</td>\n",
       "    </tr>\n",
       "    <tr>\n",
       "      <th>mean</th>\n",
       "      <td>3.100033</td>\n",
       "      <td>2.944542</td>\n",
       "      <td>5.377484</td>\n",
       "      <td>4.923954</td>\n",
       "    </tr>\n",
       "    <tr>\n",
       "      <th>std</th>\n",
       "      <td>2.850247</td>\n",
       "      <td>2.363847</td>\n",
       "      <td>5.915622</td>\n",
       "      <td>4.217440</td>\n",
       "    </tr>\n",
       "    <tr>\n",
       "      <th>min</th>\n",
       "      <td>1.020000</td>\n",
       "      <td>1.080000</td>\n",
       "      <td>1.080000</td>\n",
       "      <td>1.160000</td>\n",
       "    </tr>\n",
       "    <tr>\n",
       "      <th>25%</th>\n",
       "      <td>1.500000</td>\n",
       "      <td>1.762500</td>\n",
       "      <td>2.072500</td>\n",
       "      <td>2.605000</td>\n",
       "    </tr>\n",
       "    <tr>\n",
       "      <th>50%</th>\n",
       "      <td>2.100000</td>\n",
       "      <td>2.140000</td>\n",
       "      <td>3.300000</td>\n",
       "      <td>3.600000</td>\n",
       "    </tr>\n",
       "    <tr>\n",
       "      <th>75%</th>\n",
       "      <td>3.200000</td>\n",
       "      <td>2.700000</td>\n",
       "      <td>6.000000</td>\n",
       "      <td>4.750000</td>\n",
       "    </tr>\n",
       "    <tr>\n",
       "      <th>max</th>\n",
       "      <td>17.000000</td>\n",
       "      <td>15.000000</td>\n",
       "      <td>41.000000</td>\n",
       "      <td>21.000000</td>\n",
       "    </tr>\n",
       "  </tbody>\n",
       "</table>\n",
       "</div>"
      ],
      "text/plain": [
       "       holandes_casa  portugues_casa  holandes_fora  portugues_fora\n",
       "count     306.000000      306.000000     306.000000      306.000000\n",
       "mean        3.100033        2.944542       5.377484        4.923954\n",
       "std         2.850247        2.363847       5.915622        4.217440\n",
       "min         1.020000        1.080000       1.080000        1.160000\n",
       "25%         1.500000        1.762500       2.072500        2.605000\n",
       "50%         2.100000        2.140000       3.300000        3.600000\n",
       "75%         3.200000        2.700000       6.000000        4.750000\n",
       "max        17.000000       15.000000      41.000000       21.000000"
      ]
     },
     "execution_count": 109,
     "metadata": {},
     "output_type": "execute_result"
    }
   ],
   "source": [
    "dados = {'holandes_casa': holandes.B365H, 'portugues_casa': portugues.B365H,\n",
    "         'holandes_fora': holandes.B365A, 'portugues_fora': portugues.B365A}\n",
    "\n",
    "odds_v = pd.DataFrame(data = dados)\n",
    "\n",
    "odds_v.describe()"
   ]
  },
  {
   "cell_type": "markdown",
   "metadata": {},
   "source": [
    "(Parte dos mandantes)\n",
    "\n",
    "Através do histograma vemos que a maior parte dos odds estão próximo de 2(50% de chance de vitória), é de se esperar que a equipe mandante tenha mais chances de vitória. Pelo boxplot é possível notar vários outliers, com odds que passam de 10(10% de chance de vitória), provavelmente são partidas depois da primeira metade do campeonato, onde equipes que estão brigando pelo título enfrentam adversários da parte de baixo da tabela. O valor mínimo mostra uma partida extremamente favorável para a equipe mandante(98% de chance de vitória no holandês e 92,6% no português), já o valor máximo mostra o contrário, uma partida onde a equipe mandante tem a menor probabilidade de vitória(5,9% no holandês e 6,7% no português).\n",
    "\n",
    "Quando comparamos as duas ligas, é possível notar uma maior variabilidade dos odds no campeonato Holandês. Além disso, nota-se que o valor do primeiro quartil é menor no campeonato holandês do que no português, isso mostra que em 25% dos jogos a equipe mandante teve mais de 66% de chance de vitória no campeonato holandês, contra 57% no português. O valor da mediana está bem próximo, já o terceiro quartil mostra que as equipes mandantes que não são favoritas para vencer o jogo têm mais chances no campeonato português do que no holandês.\n",
    "\n",
    "(Parte dos visitantes)\n",
    "\n",
    "Já com as equipes visitantes os valores dos odds estão próximos de 3.5(28.6% de chance de vitória) e a variabilidade no campeonato holandês continua maior. A distribuição é parecida com o das equipes mandantes, porém aqui os odds são maiores, com o primeiro quartil acima de 2 em ambos campeonatos. É interessante notar que a diferença no terceiro quartil aumentou consideravelmente, além disso vemos outliers mais extremos no campeonato holandês.   "
   ]
  },
  {
   "cell_type": "markdown",
   "metadata": {},
   "source": [
    "### Odds de empate"
   ]
  },
  {
   "cell_type": "markdown",
   "metadata": {},
   "source": [
    "As odds de empate estão separadas pq bla bla bla"
   ]
  },
  {
   "cell_type": "code",
   "execution_count": 110,
   "metadata": {},
   "outputs": [
    {
     "data": {
      "image/png": "[encoded data removed]",
      "text/plain": [
       "<Figure size 648x288 with 2 Axes>"
      ]
     },
     "metadata": {},
     "output_type": "display_data"
    }
   ],
   "source": [
    "oddD = [holandes.B365D, portugues.B365D]\n",
    "cores = [\"orange\", \"#7E0008\", \"black\", \"#006400\"]\n",
    "legendas = [\"Holandês\", \"Português\"]\n",
    "\n",
    "fig, (graf1, graf2) = plt.subplots(nrows = 1, ncols = 2, figsize = (9, 4))\n",
    "\n",
    "graf1.hist(oddD, color = [\"orange\", \"#7E0008\"])\n",
    "\n",
    "\n",
    "for i in range(2):\n",
    "    graf2.boxplot(oddD[i], patch_artist = True, positions = [i + 1], \n",
    "                               boxprops = dict(facecolor = cores[i], color = cores[i + 2]),\n",
    "                               capprops = dict(color = cores[i + 2]),\n",
    "                               whiskerprops = dict(color = cores[i + 2]),\n",
    "                               flierprops = dict(color = cores[i + 2], markeredgecolor = cores[i + 2]),\n",
    "                               medianprops = dict(color = cores[i + 2]))\n",
    "\n",
    "    \n",
    "\n",
    "        \n",
    "graf1.set_title('Odds de empate')\n",
    "graf1.set_ylabel(\"Frequência\")\n",
    "\n",
    "graf2.set_xticklabels(legendas)\n",
    "\n",
    "plt.show()"
   ]
  },
  {
   "cell_type": "markdown",
   "metadata": {},
   "source": [
    "Com relação ao empate, os odds são mais altos(a chance de ocorrer é menor) e grande parte está em torno de 4(25% de chance de ocorrer empate). Algo que chama a atenção é que a maior probabilidade de ocorrer empate foi de algo em torno de 30% para os dois campeonatos.\n",
    "Comparando as 2 ligas vemos que as chances de ocorrer empate na liga portuguesa é maior, com uma variabilidade menor. Isto pode ocorrer por conta do ataque, defesa ou nível semelhante das equipes. Uma análise de outras variáveis pode esclarecer este assunto."
   ]
  },
  {
   "cell_type": "markdown",
   "metadata": {},
   "source": [
    "### Gols por jogo"
   ]
  },
  {
   "cell_type": "markdown",
   "metadata": {},
   "source": [
    "Essa variável é possivelmente a mais importante de todo o banco de dados. Afinal, o gol é o ápice do jogo de futebol, e é o que torna o jogo emocionante, seja pela dificuldade, quantidade ou falta dos gols.\n",
    "\n",
    "Dessa forma, podemos enxergar os dados de gols por jogo da seguinte maneira:"
   ]
  },
  {
   "cell_type": "code",
   "execution_count": 113,
   "metadata": {},
   "outputs": [
    {
     "data": {
      "image/png": "[encoded data removed]",
      "text/plain": [
       "<Figure size 648x288 with 2 Axes>"
      ]
     },
     "metadata": {},
     "output_type": "display_data"
    }
   ],
   "source": [
    "plt.style.use('seaborn-white')\n",
    "\n",
    "gols = [[holandes.FTHG, portugues.FTHG], [holandes.FTAG, portugues.FTAG]]\n",
    "cores = [\"orange\", \"#7E0008\", \"black\", \"#006400\"]\n",
    "legendas = [\"Holandês\", \"Português\"]\n",
    "local = [\"mandantes\", \"visitantes\"]\n",
    "\n",
    "fig, (graf1, graf2) = plt.subplots(nrows = 1, ncols = 2, figsize = (9, 4), sharey = True)\n",
    "\n",
    "grafs = (graf1, graf2)\n",
    "\n",
    "for i in range(2):\n",
    "    for j in range(2):\n",
    "        grafs[j].boxplot(gols[j][i], patch_artist = True, positions = [i + 1], \n",
    "                               boxprops = dict(facecolor = cores[i], color = cores[i + 2]),\n",
    "                               capprops = dict(color = cores[i + 2]),\n",
    "                               whiskerprops = dict(color = cores[i + 2]),\n",
    "                               flierprops = dict(color = cores[i + 2], markeredgecolor = cores[i + 2]),\n",
    "                               medianprops = dict(color = cores[i + 2]))\n",
    "    \n",
    "        \n",
    "for i in range(2):\n",
    "    grafs[i].set_title(str('Gols de ' + local[i]))\n",
    "    grafs[i].set_xticklabels([\"Holandês\", \"Português\"])\n",
    "\n",
    "\n",
    "\n",
    "plt.show()"
   ]
  },
  {
   "cell_type": "code",
   "execution_count": 114,
   "metadata": {},
   "outputs": [
    {
     "data": {
      "text/html": [
       "<div>\n",
       "<style scoped>\n",
       "    .dataframe tbody tr th:only-of-type {\n",
       "        vertical-align: middle;\n",
       "    }\n",
       "\n",
       "    .dataframe tbody tr th {\n",
       "        vertical-align: top;\n",
       "    }\n",
       "\n",
       "    .dataframe thead th {\n",
       "        text-align: right;\n",
       "    }\n",
       "</style>\n",
       "<table border=\"1\" class=\"dataframe\">\n",
       "  <thead>\n",
       "    <tr style=\"text-align: right;\">\n",
       "      <th></th>\n",
       "      <th>holandes_casa</th>\n",
       "      <th>portugues_casa</th>\n",
       "      <th>holandes_fora</th>\n",
       "      <th>portugues_fora</th>\n",
       "    </tr>\n",
       "  </thead>\n",
       "  <tbody>\n",
       "    <tr>\n",
       "      <th>count</th>\n",
       "      <td>306.000000</td>\n",
       "      <td>306.000000</td>\n",
       "      <td>306.000000</td>\n",
       "      <td>306.000000</td>\n",
       "    </tr>\n",
       "    <tr>\n",
       "      <th>mean</th>\n",
       "      <td>2.006536</td>\n",
       "      <td>1.522876</td>\n",
       "      <td>1.460784</td>\n",
       "      <td>1.176471</td>\n",
       "    </tr>\n",
       "    <tr>\n",
       "      <th>std</th>\n",
       "      <td>1.584750</td>\n",
       "      <td>1.412288</td>\n",
       "      <td>1.416564</td>\n",
       "      <td>1.168536</td>\n",
       "    </tr>\n",
       "    <tr>\n",
       "      <th>min</th>\n",
       "      <td>0.000000</td>\n",
       "      <td>0.000000</td>\n",
       "      <td>0.000000</td>\n",
       "      <td>0.000000</td>\n",
       "    </tr>\n",
       "    <tr>\n",
       "      <th>25%</th>\n",
       "      <td>1.000000</td>\n",
       "      <td>1.000000</td>\n",
       "      <td>0.000000</td>\n",
       "      <td>0.000000</td>\n",
       "    </tr>\n",
       "    <tr>\n",
       "      <th>50%</th>\n",
       "      <td>2.000000</td>\n",
       "      <td>1.000000</td>\n",
       "      <td>1.000000</td>\n",
       "      <td>1.000000</td>\n",
       "    </tr>\n",
       "    <tr>\n",
       "      <th>75%</th>\n",
       "      <td>3.000000</td>\n",
       "      <td>2.000000</td>\n",
       "      <td>2.000000</td>\n",
       "      <td>2.000000</td>\n",
       "    </tr>\n",
       "    <tr>\n",
       "      <th>max</th>\n",
       "      <td>8.000000</td>\n",
       "      <td>10.000000</td>\n",
       "      <td>7.000000</td>\n",
       "      <td>8.000000</td>\n",
       "    </tr>\n",
       "  </tbody>\n",
       "</table>\n",
       "</div>"
      ],
      "text/plain": [
       "       holandes_casa  portugues_casa  holandes_fora  portugues_fora\n",
       "count     306.000000      306.000000     306.000000      306.000000\n",
       "mean        2.006536        1.522876       1.460784        1.176471\n",
       "std         1.584750        1.412288       1.416564        1.168536\n",
       "min         0.000000        0.000000       0.000000        0.000000\n",
       "25%         1.000000        1.000000       0.000000        0.000000\n",
       "50%         2.000000        1.000000       1.000000        1.000000\n",
       "75%         3.000000        2.000000       2.000000        2.000000\n",
       "max         8.000000       10.000000       7.000000        8.000000"
      ]
     },
     "execution_count": 114,
     "metadata": {},
     "output_type": "execute_result"
    }
   ],
   "source": [
    "gols = {'holandes_casa':holandes.FTHG, 'portugues_casa':portugues.FTHG,\n",
    "        'holandes_fora':holandes.FTAG, 'portugues_fora':portugues.FTAG}\n",
    "\n",
    "FTHG = pd.DataFrame(data = gols)\n",
    "\n",
    "FTHG.describe()"
   ]
  },
  {
   "cell_type": "markdown",
   "metadata": {},
   "source": [
    "Com esses gráficos e as medidas, podemos perceber diversos pontos:\n",
    "\n",
    "1 - Em ambos os campeonatos, o time que joga em casa costuma marcar mais gols. Isso é evidenciado pelo 1º quartil que é de 1 gol nos mandantes dos dois campeonatos, e 0 gols para os visitantes.\n",
    "\n",
    "2 - O campeonato holandês teve média superior de gols tanto para quem joga em casa e quem joga fora, embora o português tenha bem mais valores extremos.\n",
    "\n",
    "3 - De maneira geral, os times holandeses que jogam em casa fazem mais gols, como evidenciado por todos os quartis e média.\n",
    "\n",
    "4 - Os desvios padrões são bem próximos uns dos outros, com exceção dos times visitantes de Portugal que tende a ser mais consistente com a média que os demais."
   ]
  },
  {
   "cell_type": "markdown",
   "metadata": {},
   "source": [
    "### Chutes na partida"
   ]
  },
  {
   "cell_type": "markdown",
   "metadata": {},
   "source": [
    "Outra variável importante, pois se não há chutes, não há gols. De maneira simplista, a quantidade de chutes  mede o quão \"agitada\" e pró-ofensiva a partida foi; então, a tendência é que um jogo seja melhor quanto maior for o número de chutes.\n",
    "\n",
    "Portanto, vamos observar os dados:"
   ]
  },
  {
   "cell_type": "code",
   "execution_count": 115,
   "metadata": {},
   "outputs": [
    {
     "data": {
      "image/png": "[encoded data removed]",
      "text/plain": [
       "<Figure size 648x288 with 2 Axes>"
      ]
     },
     "metadata": {},
     "output_type": "display_data"
    }
   ],
   "source": [
    "campeonatos = [holandes, portugues]\n",
    "cores = [\"orange\", \"#7E0008\"]\n",
    "legenda = [\"Holandês\", \"Português\"]\n",
    "\n",
    "fig, (graf1, graf2) = plt.subplots(nrows = 1, ncols = 2, figsize = (9, 4), sharey = True)\n",
    "\n",
    "for i in range(len(campeonatos)):\n",
    "    counts1, bins1 = np.histogram(campeonatos[i].HS, bins = range(0, 40, 1))\n",
    "    counts2, bins2 = np.histogram(campeonatos[i].AS, bins = range(0, 40, 1))\n",
    "    \n",
    "    graf1.plot(bins1[:-1] + 1, counts1, color = cores[i], label = legenda[i])\n",
    "    graf1.set_ylabel('Frequência')\n",
    "    graf1.set_title('Chutes na partida (Mandantes)')\n",
    "    \n",
    "    graf2.plot(bins2[:-1] + 1, counts2, color = cores[i], label = legenda[i])\n",
    "    graf2.set_title('Chutes na partida (Visitantes)')\n",
    "    \n",
    "\n",
    "\n",
    "plt.legend()\n",
    "\n",
    "plt.show()"
   ]
  },
  {
   "cell_type": "code",
   "execution_count": 116,
   "metadata": {},
   "outputs": [
    {
     "data": {
      "text/html": [
       "<div>\n",
       "<style scoped>\n",
       "    .dataframe tbody tr th:only-of-type {\n",
       "        vertical-align: middle;\n",
       "    }\n",
       "\n",
       "    .dataframe tbody tr th {\n",
       "        vertical-align: top;\n",
       "    }\n",
       "\n",
       "    .dataframe thead th {\n",
       "        text-align: right;\n",
       "    }\n",
       "</style>\n",
       "<table border=\"1\" class=\"dataframe\">\n",
       "  <thead>\n",
       "    <tr style=\"text-align: right;\">\n",
       "      <th></th>\n",
       "      <th>chutes_mandante_holanda</th>\n",
       "      <th>chutes_mandante_portugal</th>\n",
       "      <th>chutes_visitante_holanda</th>\n",
       "      <th>chutes_visitante_portugal</th>\n",
       "    </tr>\n",
       "  </thead>\n",
       "  <tbody>\n",
       "    <tr>\n",
       "      <th>count</th>\n",
       "      <td>306.000000</td>\n",
       "      <td>306.000000</td>\n",
       "      <td>306.000000</td>\n",
       "      <td>306.000000</td>\n",
       "    </tr>\n",
       "    <tr>\n",
       "      <th>mean</th>\n",
       "      <td>15.375817</td>\n",
       "      <td>13.437908</td>\n",
       "      <td>12.006536</td>\n",
       "      <td>11.379085</td>\n",
       "    </tr>\n",
       "    <tr>\n",
       "      <th>std</th>\n",
       "      <td>6.002126</td>\n",
       "      <td>5.111645</td>\n",
       "      <td>5.226661</td>\n",
       "      <td>4.565022</td>\n",
       "    </tr>\n",
       "    <tr>\n",
       "      <th>min</th>\n",
       "      <td>3.000000</td>\n",
       "      <td>3.000000</td>\n",
       "      <td>2.000000</td>\n",
       "      <td>0.000000</td>\n",
       "    </tr>\n",
       "    <tr>\n",
       "      <th>25%</th>\n",
       "      <td>11.250000</td>\n",
       "      <td>10.000000</td>\n",
       "      <td>8.000000</td>\n",
       "      <td>8.000000</td>\n",
       "    </tr>\n",
       "    <tr>\n",
       "      <th>50%</th>\n",
       "      <td>14.500000</td>\n",
       "      <td>13.000000</td>\n",
       "      <td>12.000000</td>\n",
       "      <td>11.000000</td>\n",
       "    </tr>\n",
       "    <tr>\n",
       "      <th>75%</th>\n",
       "      <td>19.000000</td>\n",
       "      <td>17.000000</td>\n",
       "      <td>15.000000</td>\n",
       "      <td>15.000000</td>\n",
       "    </tr>\n",
       "    <tr>\n",
       "      <th>max</th>\n",
       "      <td>36.000000</td>\n",
       "      <td>31.000000</td>\n",
       "      <td>32.000000</td>\n",
       "      <td>25.000000</td>\n",
       "    </tr>\n",
       "  </tbody>\n",
       "</table>\n",
       "</div>"
      ],
      "text/plain": [
       "       chutes_mandante_holanda  chutes_mandante_portugal  \\\n",
       "count               306.000000                306.000000   \n",
       "mean                 15.375817                 13.437908   \n",
       "std                   6.002126                  5.111645   \n",
       "min                   3.000000                  3.000000   \n",
       "25%                  11.250000                 10.000000   \n",
       "50%                  14.500000                 13.000000   \n",
       "75%                  19.000000                 17.000000   \n",
       "max                  36.000000                 31.000000   \n",
       "\n",
       "       chutes_visitante_holanda  chutes_visitante_portugal  \n",
       "count                306.000000                 306.000000  \n",
       "mean                  12.006536                  11.379085  \n",
       "std                    5.226661                   4.565022  \n",
       "min                    2.000000                   0.000000  \n",
       "25%                    8.000000                   8.000000  \n",
       "50%                   12.000000                  11.000000  \n",
       "75%                   15.000000                  15.000000  \n",
       "max                   32.000000                  25.000000  "
      ]
     },
     "execution_count": 116,
     "metadata": {},
     "output_type": "execute_result"
    }
   ],
   "source": [
    "cht = {\"chutes_mandante_holanda\":holandes.HS, \"chutes_mandante_portugal\":portugues.HS,\n",
    "         \"chutes_visitante_holanda\":holandes.AS, \"chutes_visitante_portugal\":portugues.AS}\n",
    "\n",
    "chutes = pd.DataFrame(data = cht)\n",
    "\n",
    "chutes.describe()"
   ]
  },
  {
   "cell_type": "markdown",
   "metadata": {},
   "source": [
    "Diversas características dos dados puderam ser levantadas com base nesses recursos:\n",
    "    \n",
    "1 - Em ambos os campeonatos, os mandantes tendem a chutarem mais que os visitantes, como evidenciado pela média e os quartis. Entretanto, o desvio padrão também é maior, ou seja, é uma média menos consistente do que dos visitantes.\n",
    "\n",
    "2 - Os times holandeses costumam ter mais chutes por partida que os portugueses, tendo mais times que chutaram entre 18 a 40 vezes em partidas. Ainda assim, o menor desvio padrão dos clubes da Holanda é dos visitantes, que consegue ser maior do que o desvio padrão dos clubes portugueses que jogam em casa.\n",
    "\n",
    "3 - O maior valor de chutes numa partida em Portugal é de 31 em um time mandante, que é um valor inferior ao maior número de chutes de um clube visitante holandês com 32."
   ]
  },
  {
   "cell_type": "markdown",
   "metadata": {},
   "source": [
    "### Precisão dos chutes na partida"
   ]
  },
  {
   "cell_type": "markdown",
   "metadata": {},
   "source": [
    "Embora o número de chutes possa refletir bem a qualidade de uma partida, não é exatamente uma regra fixa; pode acontecer uma partida com 4 chutes e 4 gols, bem como uma partida com 30 chutes isolados.\n",
    "\n",
    "Seguindo essa lógica, os chutes com risco de gol são aqueles que transmitem emoção. Então, criamos uma nova variável \"Precisão\" para medir quantos chutes são direcionados ao gol em relação ao total. Portanto:"
   ]
  },
  {
   "cell_type": "code",
   "execution_count": 117,
   "metadata": {},
   "outputs": [
    {
     "data": {
      "image/png": "[encoded data removed]",
      "text/plain": [
       "<Figure size 648x576 with 4 Axes>"
      ]
     },
     "metadata": {},
     "output_type": "display_data"
    }
   ],
   "source": [
    "precisao_holandes_casa = []\n",
    "precisao_portugues_casa = []\n",
    "\n",
    "precisao_holandes_fora = []\n",
    "precisao_portugues_fora = []\n",
    "\n",
    "\n",
    "for i in range(len(holandes)):\n",
    "    precisao_casa_hd = holandes.HST[i] / holandes.HS[i]\n",
    "    precisao_casa_pt = portugues.HST[i] / portugues.HS[i]\n",
    "    \n",
    "    precisao_fora_hd = holandes.AST[i] / holandes.AS[i]\n",
    "    precisao_fora_pt = portugues.AST[i] / portugues.AS[i]\n",
    "    \n",
    "    \n",
    "    precisao_holandes_casa.append(precisao_casa_hd)\n",
    "    precisao_portugues_casa.append(precisao_casa_pt)\n",
    "    \n",
    "    precisao_holandes_fora.append(precisao_fora_hd)\n",
    "    precisao_portugues_fora.append(precisao_fora_pt)\n",
    "\n",
    "    \n",
    "    \n",
    "precisoes = [[precisao_holandes_casa, precisao_holandes_fora],\n",
    "             [precisao_portugues_casa, precisao_portugues_fora]]\n",
    "\n",
    "cores = [\"orange\", \"#7E0008\"]\n",
    "\n",
    "\n",
    "fig, grafs = plt.subplots(nrows = 2, ncols = 2, figsize = (9, 8), sharey = True)\n",
    "\n",
    "bins = np.linspace(0, 1, 10)\n",
    "\n",
    "for i in range(2):\n",
    "    for j in range(2):\n",
    "        grafs[i, j].hist(precisoes[i][j], bins, rwidth = 1, color = cores[i])\n",
    "\n",
    "\n",
    "local = [\"(Mandantes)\", \"(Visitantes)\"]\n",
    "\n",
    "for i in range(2):\n",
    "    grafs[0, i].set_title(str(\"Precisão de chutes no gol \" + local[i]))\n",
    "    grafs[i, 0].set_ylabel(\"Frequência\")\n",
    "\n",
    "\n",
    "plt.show()"
   ]
  },
  {
   "cell_type": "code",
   "execution_count": 118,
   "metadata": {},
   "outputs": [
    {
     "data": {
      "text/html": [
       "<div>\n",
       "<style scoped>\n",
       "    .dataframe tbody tr th:only-of-type {\n",
       "        vertical-align: middle;\n",
       "    }\n",
       "\n",
       "    .dataframe tbody tr th {\n",
       "        vertical-align: top;\n",
       "    }\n",
       "\n",
       "    .dataframe thead th {\n",
       "        text-align: right;\n",
       "    }\n",
       "</style>\n",
       "<table border=\"1\" class=\"dataframe\">\n",
       "  <thead>\n",
       "    <tr style=\"text-align: right;\">\n",
       "      <th></th>\n",
       "      <th>precisao_mandante_holanda</th>\n",
       "      <th>precisao_visitante_holanda</th>\n",
       "      <th>precisao_mandante_portugal</th>\n",
       "      <th>precisao_visitante_portugal</th>\n",
       "    </tr>\n",
       "  </thead>\n",
       "  <tbody>\n",
       "    <tr>\n",
       "      <th>count</th>\n",
       "      <td>306.000000</td>\n",
       "      <td>306.000000</td>\n",
       "      <td>306.000000</td>\n",
       "      <td>305.000000</td>\n",
       "    </tr>\n",
       "    <tr>\n",
       "      <th>mean</th>\n",
       "      <td>0.366567</td>\n",
       "      <td>0.368974</td>\n",
       "      <td>0.358170</td>\n",
       "      <td>0.333777</td>\n",
       "    </tr>\n",
       "    <tr>\n",
       "      <th>std</th>\n",
       "      <td>0.138417</td>\n",
       "      <td>0.157187</td>\n",
       "      <td>0.162449</td>\n",
       "      <td>0.142256</td>\n",
       "    </tr>\n",
       "    <tr>\n",
       "      <th>min</th>\n",
       "      <td>0.000000</td>\n",
       "      <td>0.000000</td>\n",
       "      <td>0.000000</td>\n",
       "      <td>0.000000</td>\n",
       "    </tr>\n",
       "    <tr>\n",
       "      <th>25%</th>\n",
       "      <td>0.272727</td>\n",
       "      <td>0.264035</td>\n",
       "      <td>0.250000</td>\n",
       "      <td>0.250000</td>\n",
       "    </tr>\n",
       "    <tr>\n",
       "      <th>50%</th>\n",
       "      <td>0.363636</td>\n",
       "      <td>0.363636</td>\n",
       "      <td>0.333333</td>\n",
       "      <td>0.333333</td>\n",
       "    </tr>\n",
       "    <tr>\n",
       "      <th>75%</th>\n",
       "      <td>0.466667</td>\n",
       "      <td>0.500000</td>\n",
       "      <td>0.453409</td>\n",
       "      <td>0.428571</td>\n",
       "    </tr>\n",
       "    <tr>\n",
       "      <th>max</th>\n",
       "      <td>0.714286</td>\n",
       "      <td>0.800000</td>\n",
       "      <td>1.000000</td>\n",
       "      <td>0.833333</td>\n",
       "    </tr>\n",
       "  </tbody>\n",
       "</table>\n",
       "</div>"
      ],
      "text/plain": [
       "       precisao_mandante_holanda  precisao_visitante_holanda  \\\n",
       "count                 306.000000                  306.000000   \n",
       "mean                    0.366567                    0.368974   \n",
       "std                     0.138417                    0.157187   \n",
       "min                     0.000000                    0.000000   \n",
       "25%                     0.272727                    0.264035   \n",
       "50%                     0.363636                    0.363636   \n",
       "75%                     0.466667                    0.500000   \n",
       "max                     0.714286                    0.800000   \n",
       "\n",
       "       precisao_mandante_portugal  precisao_visitante_portugal  \n",
       "count                  306.000000                   305.000000  \n",
       "mean                     0.358170                     0.333777  \n",
       "std                      0.162449                     0.142256  \n",
       "min                      0.000000                     0.000000  \n",
       "25%                      0.250000                     0.250000  \n",
       "50%                      0.333333                     0.333333  \n",
       "75%                      0.453409                     0.428571  \n",
       "max                      1.000000                     0.833333  "
      ]
     },
     "execution_count": 118,
     "metadata": {},
     "output_type": "execute_result"
    }
   ],
   "source": [
    "pcs = {\"precisao_mandante_holanda\":precisao_holandes_casa, \"precisao_visitante_holanda\":precisao_holandes_fora,\n",
    "       \"precisao_mandante_portugal\":precisao_portugues_casa, \"precisao_visitante_portugal\":precisao_portugues_fora}\n",
    "\n",
    "precisao = pd.DataFrame(data = pcs)\n",
    "\n",
    "precisao.describe()"
   ]
  },
  {
   "cell_type": "markdown",
   "metadata": {},
   "source": [
    "Dado a análise exploratória desses dados, vemos que:\n",
    "\n",
    "1 - A precisão dos times não parece ser muito afetada por jogar dentro ou fora de casa. Isso é evidenciado tanto pela médias, desvios padrões, quantis e gráficos dos mandantes e visitantes da mesma liga.\n",
    "\n",
    "2 - A distribuição dos dados aparenta não ser muito diferente em ambas as ligas, com todas as médias e medianas sendo bem próximas entre si, entre 33 a 37% de precisão. "
   ]
  },
  {
   "cell_type": "markdown",
   "metadata": {},
   "source": [
    "### Resultado da partida"
   ]
  },
  {
   "cell_type": "markdown",
   "metadata": {},
   "source": [
    "Uma maneira comum de medir o quão boa foi uma partida, é pela previsibilidade do seu resultado; afinal, se existe alguma tendência forte para algum lado ganhar, o jogo tende a ser menos emocionante.\n",
    "\n",
    "Pensando assim, montamos os seguintes gráficos para verificar as porcentagens de vitória para mandantes, visitantes ou empates:"
   ]
  },
  {
   "cell_type": "code",
   "execution_count": 119,
   "metadata": {},
   "outputs": [
    {
     "data": {
      "image/png": "[encoded data removed]",
      "text/plain": [
       "<Figure size 648x288 with 2 Axes>"
      ]
     },
     "metadata": {},
     "output_type": "display_data"
    }
   ],
   "source": [
    "resultados_holandes = [sum(holandes.FTR == \"H\"), sum(holandes.FTR == \"A\"), sum(holandes.FTR == \"D\")]\n",
    "resultados_portugues = [sum(portugues.FTR == \"H\"), sum(portugues.FTR == \"A\"), sum(portugues.FTR == \"D\")]\n",
    "legenda = [\"Mandantes\", \"Visitantes\", \"Empates\"]\n",
    "cores = [\"#2FA4E2\", \"#FF7FAB\", \"gray\"]\n",
    "\n",
    "fig, (graf1, graf2) = plt.subplots(nrows = 1, ncols = 2, figsize = (9, 4))\n",
    "\n",
    "graf1.pie(resultados_holandes, autopct='%1.1f%%', labels = legenda, shadow = True, startangle = 90, colors = cores)\n",
    "graf2.pie(resultados_portugues, autopct='%1.1f%%', labels = legenda, shadow = True, startangle = 90, colors = cores)\n",
    "\n",
    "graf1.axis('equal')\n",
    "graf2.axis('equal')\n",
    "\n",
    "graf1.set_title(\"Vitórias do Campeonato Holandês\")\n",
    "graf2.set_title(\"Vitórias do Campeonato Português\")\n",
    "\n",
    "\n",
    "plt.show()"
   ]
  },
  {
   "cell_type": "markdown",
   "metadata": {},
   "source": [
    "Com os gráficos acima, vemos que ambos os campeonatos tem estruturas bem parecidas, em que o time que joga em casa é quem tem maiores chances de ganhar, seguido pela vitória dos visitantes e por fim os empates.\n",
    "\n",
    "Contudo, o mais interessante seria que o campeonato fosse equiprovável para qualquer resultado, pois tornaria o campeonato mais imprevisível e emocionante. Nesse sentido, a Primeira Liga é quem parece mais balanceado, pois é menos orientado pra vitória dos times da casa do que a Eredivisie."
   ]
  },
  {
   "cell_type": "markdown",
   "metadata": {},
   "source": [
    "### Empates com gols"
   ]
  },
  {
   "cell_type": "markdown",
   "metadata": {},
   "source": [
    "O resultado final de uma partida deveria refletir o quão agitada e emocionante ela foi; contudo, nem sempre o futebol não segue essas regras. \n",
    "\n",
    "De maneira geral, há uma grande diferença entre um jogo terminar 0 a 0 e terminar num 3 a 3, ainda que ambos sejam empates e que  existam defensores de \"um bom 0 a 0\". \n",
    "\n",
    "Nesse raciocínio, criamos essa nova variável que mostra quantos empates que foram marcados pelo menos 1 gol para cada lado, e quantos acabaram sem gols. Sendo assim:"
   ]
  },
  {
   "cell_type": "code",
   "execution_count": 120,
   "metadata": {},
   "outputs": [
    {
     "data": {
      "image/png": "[encoded data removed]",
      "text/plain": [
       "<Figure size 576x396 with 1 Axes>"
      ]
     },
     "metadata": {},
     "output_type": "display_data"
    }
   ],
   "source": [
    "empates_hd = holandes[holandes.FTHG == holandes.FTAG]\n",
    "empates_pt = portugues[portugues.FTHG == portugues.FTAG]\n",
    "\n",
    "empates_hd.reset_index(inplace = True, drop = True)\n",
    "empates_pt.reset_index(inplace = True, drop = True)\n",
    "\n",
    "com_gols_hd = 0\n",
    "com_gols_pt = 0\n",
    "\n",
    "\n",
    "for jogo in range(len(empates_hd)):\n",
    "    if empates_hd.FTHG[jogo] != 0:\n",
    "        com_gols_hd += 1\n",
    "\n",
    "\n",
    "\n",
    "for jogo in range(len(empates_pt)):\n",
    "    if empates_pt.FTHG[jogo] != 0:\n",
    "        com_gols_pt += 1\n",
    "\n",
    "legenda = ['Sem gols', 'Com gols']\n",
    "hd = [len(empates_hd) - com_gols_hd, com_gols_hd]\n",
    "pt = [len(empates_pt) - com_gols_pt, com_gols_pt]\n",
    "\n",
    "x = np.arange(len(legenda))  # the label locations\n",
    "width = 0.35  # the width of the bars\n",
    "\n",
    "fig, ax = plt.subplots()\n",
    "rects1 = ax.bar(x - width/2, hd, width, label = 'Holandês', color = \"orange\")\n",
    "rects2 = ax.bar(x + width/2, pt, width, label = 'Português', color = \"#7E0008\")\n",
    "\n",
    "# Add some text for labels, title and custom x-axis tick labels, etc.\n",
    "ax.set_ylabel('Frequência')\n",
    "ax.set_title('Empates')\n",
    "ax.set_xticks(x)\n",
    "ax.set_xticklabels(legenda)\n",
    "ax.legend()\n",
    "\n",
    "fig.tight_layout()\n",
    "\n",
    "plt.show()"
   ]
  },
  {
   "cell_type": "code",
   "execution_count": 121,
   "metadata": {},
   "outputs": [
    {
     "data": {
      "text/html": [
       "<div>\n",
       "<style scoped>\n",
       "    .dataframe tbody tr th:only-of-type {\n",
       "        vertical-align: middle;\n",
       "    }\n",
       "\n",
       "    .dataframe tbody tr th {\n",
       "        vertical-align: top;\n",
       "    }\n",
       "\n",
       "    .dataframe thead th {\n",
       "        text-align: right;\n",
       "    }\n",
       "</style>\n",
       "<table border=\"1\" class=\"dataframe\">\n",
       "  <thead>\n",
       "    <tr style=\"text-align: right;\">\n",
       "      <th></th>\n",
       "      <th>holandes_empates</th>\n",
       "      <th>portugues_empates</th>\n",
       "    </tr>\n",
       "  </thead>\n",
       "  <tbody>\n",
       "    <tr>\n",
       "      <th>count</th>\n",
       "      <td>60.000000</td>\n",
       "      <td>62.000000</td>\n",
       "    </tr>\n",
       "    <tr>\n",
       "      <th>mean</th>\n",
       "      <td>1.266667</td>\n",
       "      <td>1.032258</td>\n",
       "    </tr>\n",
       "    <tr>\n",
       "      <th>std</th>\n",
       "      <td>0.989207</td>\n",
       "      <td>0.974557</td>\n",
       "    </tr>\n",
       "    <tr>\n",
       "      <th>min</th>\n",
       "      <td>0.000000</td>\n",
       "      <td>0.000000</td>\n",
       "    </tr>\n",
       "    <tr>\n",
       "      <th>25%</th>\n",
       "      <td>1.000000</td>\n",
       "      <td>0.000000</td>\n",
       "    </tr>\n",
       "    <tr>\n",
       "      <th>50%</th>\n",
       "      <td>1.000000</td>\n",
       "      <td>1.000000</td>\n",
       "    </tr>\n",
       "    <tr>\n",
       "      <th>75%</th>\n",
       "      <td>2.000000</td>\n",
       "      <td>1.750000</td>\n",
       "    </tr>\n",
       "    <tr>\n",
       "      <th>max</th>\n",
       "      <td>4.000000</td>\n",
       "      <td>4.000000</td>\n",
       "    </tr>\n",
       "  </tbody>\n",
       "</table>\n",
       "</div>"
      ],
      "text/plain": [
       "       holandes_empates  portugues_empates\n",
       "count         60.000000          62.000000\n",
       "mean           1.266667           1.032258\n",
       "std            0.989207           0.974557\n",
       "min            0.000000           0.000000\n",
       "25%            1.000000           0.000000\n",
       "50%            1.000000           1.000000\n",
       "75%            2.000000           1.750000\n",
       "max            4.000000           4.000000"
      ]
     },
     "execution_count": 121,
     "metadata": {},
     "output_type": "execute_result"
    }
   ],
   "source": [
    "empt = {'holandes_empates':empates_hd.FTHG, 'portugues_empates':empates_pt.FTHG}\n",
    "\n",
    "empates = pd.DataFrame(data = empt)\n",
    "\n",
    "empates.describe()"
   ]
  },
  {
   "cell_type": "markdown",
   "metadata": {},
   "source": [
    "Podemos perceber as seguintes curiosidades:\n",
    "\n",
    "1 - O número total de empates em ambas as ligas foi bem próximo, bem como o desvio padrão e o empate com maior número de gols.\n",
    "\n",
    "2 - Como demonstrado pelo gráfico, média e 1º quartil, o campeonato holandês tem proporcionalmente bem mais empates com gols do que os times portugueses. Esse é um indício de que a Eredivisie seja mais competitiva e emocionante que a Primeira Liga."
   ]
  },
  {
   "cell_type": "markdown",
   "metadata": {},
   "source": [
    "### Faltas na partida"
   ]
  },
  {
   "cell_type": "markdown",
   "metadata": {},
   "source": [
    "Faltas são muito comuns em partidas de futebol, seja por um estilo de jogo, marcação individual, árbitro pouco leniente ou até mesmo simulações. No entanto, um excesso de faltas marcadas pode tornar o jogo \"arrastado\", lento e chato; o que redireciona a emoção da partida para brigas e atendimento médico.\n",
    "\n",
    "Pensando assim, vamos olhar a distribuição de faltas dos campeonatos:"
   ]
  },
  {
   "cell_type": "code",
   "execution_count": 122,
   "metadata": {},
   "outputs": [
    {
     "data": {
      "image/png": "[encoded data removed]",
      "text/plain": [
       "<Figure size 648x288 with 2 Axes>"
      ]
     },
     "metadata": {},
     "output_type": "display_data"
    }
   ],
   "source": [
    "faltas_dentro = [holandes.HF, portugues.HF]\n",
    "faltas_fora = [holandes.AF, portugues.AF]\n",
    "faltas = [faltas_dentro, faltas_fora]\n",
    "cores = [\"orange\", \"#7E0008\", \"black\", \"#006400\"]\n",
    "legendas = [\"Holandês\", \"Português\"]\n",
    "local = [\"mandantes\", \"visitantes\"]\n",
    "\n",
    "fig, (graf1, graf2) = plt.subplots(nrows = 1, ncols = 2, figsize = (9, 4), sharey = True)\n",
    "\n",
    "grafs = (graf1, graf2)\n",
    "\n",
    "for i in range(2):\n",
    "    for j in range(2):\n",
    "        grafs[j].boxplot(faltas[j][i], patch_artist = True, positions = [i + 1], \n",
    "                               boxprops = dict(facecolor = cores[i], color = cores[i + 2]),\n",
    "                               capprops = dict(color = cores[i + 2]),\n",
    "                               whiskerprops = dict(color = cores[i + 2]),\n",
    "                               flierprops = dict(color = cores[i + 2], markeredgecolor = cores[i + 2]),\n",
    "                               medianprops = dict(color = cores[i + 2]))\n",
    "    \n",
    "        \n",
    "for i in range(2):\n",
    "    grafs[i].set_title(str('Faltas de ' + local[i]))\n",
    "    grafs[i].set_xticklabels([\"Holandês\", \"Português\"])\n",
    "\n",
    "\n",
    "\n",
    "plt.show()"
   ]
  },
  {
   "cell_type": "code",
   "execution_count": 123,
   "metadata": {},
   "outputs": [
    {
     "data": {
      "text/html": [
       "<div>\n",
       "<style scoped>\n",
       "    .dataframe tbody tr th:only-of-type {\n",
       "        vertical-align: middle;\n",
       "    }\n",
       "\n",
       "    .dataframe tbody tr th {\n",
       "        vertical-align: top;\n",
       "    }\n",
       "\n",
       "    .dataframe thead th {\n",
       "        text-align: right;\n",
       "    }\n",
       "</style>\n",
       "<table border=\"1\" class=\"dataframe\">\n",
       "  <thead>\n",
       "    <tr style=\"text-align: right;\">\n",
       "      <th></th>\n",
       "      <th>holandes_casa</th>\n",
       "      <th>portugues_casa</th>\n",
       "      <th>holandes_fora</th>\n",
       "      <th>portugues_fora</th>\n",
       "    </tr>\n",
       "  </thead>\n",
       "  <tbody>\n",
       "    <tr>\n",
       "      <th>count</th>\n",
       "      <td>306.000000</td>\n",
       "      <td>306.000000</td>\n",
       "      <td>306.000000</td>\n",
       "      <td>306.000000</td>\n",
       "    </tr>\n",
       "    <tr>\n",
       "      <th>mean</th>\n",
       "      <td>10.888889</td>\n",
       "      <td>16.477124</td>\n",
       "      <td>11.751634</td>\n",
       "      <td>15.960784</td>\n",
       "    </tr>\n",
       "    <tr>\n",
       "      <th>std</th>\n",
       "      <td>3.551136</td>\n",
       "      <td>4.430276</td>\n",
       "      <td>3.660657</td>\n",
       "      <td>4.794645</td>\n",
       "    </tr>\n",
       "    <tr>\n",
       "      <th>min</th>\n",
       "      <td>2.000000</td>\n",
       "      <td>7.000000</td>\n",
       "      <td>2.000000</td>\n",
       "      <td>3.000000</td>\n",
       "    </tr>\n",
       "    <tr>\n",
       "      <th>25%</th>\n",
       "      <td>8.000000</td>\n",
       "      <td>13.000000</td>\n",
       "      <td>9.000000</td>\n",
       "      <td>12.000000</td>\n",
       "    </tr>\n",
       "    <tr>\n",
       "      <th>50%</th>\n",
       "      <td>11.000000</td>\n",
       "      <td>16.000000</td>\n",
       "      <td>12.000000</td>\n",
       "      <td>16.000000</td>\n",
       "    </tr>\n",
       "    <tr>\n",
       "      <th>75%</th>\n",
       "      <td>13.000000</td>\n",
       "      <td>19.000000</td>\n",
       "      <td>14.000000</td>\n",
       "      <td>19.000000</td>\n",
       "    </tr>\n",
       "    <tr>\n",
       "      <th>max</th>\n",
       "      <td>23.000000</td>\n",
       "      <td>31.000000</td>\n",
       "      <td>25.000000</td>\n",
       "      <td>34.000000</td>\n",
       "    </tr>\n",
       "  </tbody>\n",
       "</table>\n",
       "</div>"
      ],
      "text/plain": [
       "       holandes_casa  portugues_casa  holandes_fora  portugues_fora\n",
       "count     306.000000      306.000000     306.000000      306.000000\n",
       "mean       10.888889       16.477124      11.751634       15.960784\n",
       "std         3.551136        4.430276       3.660657        4.794645\n",
       "min         2.000000        7.000000       2.000000        3.000000\n",
       "25%         8.000000       13.000000       9.000000       12.000000\n",
       "50%        11.000000       16.000000      12.000000       16.000000\n",
       "75%        13.000000       19.000000      14.000000       19.000000\n",
       "max        23.000000       31.000000      25.000000       34.000000"
      ]
     },
     "execution_count": 123,
     "metadata": {},
     "output_type": "execute_result"
    }
   ],
   "source": [
    "flt = {'holandes_casa':holandes.HF, 'portugues_casa':portugues.HF,\n",
    "        'holandes_fora':holandes.AF, 'portugues_fora':portugues.AF}\n",
    "\n",
    "faltas = pd.DataFrame(data = flt)\n",
    "\n",
    "faltas.describe()"
   ]
  },
  {
   "cell_type": "markdown",
   "metadata": {},
   "source": [
    "Com os recursos utilizados, vemos que:\n",
    "\n",
    "1 - Os times portugueses são mais propícios a cometer faltas do que os holandeses, o que configura como um ponto positivo para a Eredivisie.\n",
    "\n",
    "2 - Jogar dentro ou fora de casa não aparenta impactar muito nas faltas, já que os valores de média e quartis tendem a ficar relativamente próximos."
   ]
  },
  {
   "cell_type": "markdown",
   "metadata": {},
   "source": [
    "### Cartões amarelos e vermelhos"
   ]
  },
  {
   "cell_type": "markdown",
   "metadata": {},
   "source": [
    "bla bla bla"
   ]
  },
  {
   "cell_type": "code",
   "execution_count": 124,
   "metadata": {},
   "outputs": [
    {
     "data": {
      "text/html": [
       "<div>\n",
       "<style scoped>\n",
       "    .dataframe tbody tr th:only-of-type {\n",
       "        vertical-align: middle;\n",
       "    }\n",
       "\n",
       "    .dataframe tbody tr th {\n",
       "        vertical-align: top;\n",
       "    }\n",
       "\n",
       "    .dataframe thead th {\n",
       "        text-align: right;\n",
       "    }\n",
       "</style>\n",
       "<table border=\"1\" class=\"dataframe\">\n",
       "  <thead>\n",
       "    <tr style=\"text-align: right;\">\n",
       "      <th></th>\n",
       "      <th>Eredivisie</th>\n",
       "      <th>Primeira Liga</th>\n",
       "    </tr>\n",
       "  </thead>\n",
       "  <tbody>\n",
       "    <tr>\n",
       "      <th>Cartões amarelos Mandantes</th>\n",
       "      <td>415</td>\n",
       "      <td>690</td>\n",
       "    </tr>\n",
       "    <tr>\n",
       "      <th>Cartões amarelos Visitantes</th>\n",
       "      <td>510</td>\n",
       "      <td>804</td>\n",
       "    </tr>\n",
       "    <tr>\n",
       "      <th>Cartões vermelhos Mandantes</th>\n",
       "      <td>27</td>\n",
       "      <td>46</td>\n",
       "    </tr>\n",
       "    <tr>\n",
       "      <th>Cartões vermelhos visitantes</th>\n",
       "      <td>40</td>\n",
       "      <td>52</td>\n",
       "    </tr>\n",
       "  </tbody>\n",
       "</table>\n",
       "</div>"
      ],
      "text/plain": [
       "                              Eredivisie  Primeira Liga\n",
       "Cartões amarelos Mandantes           415            690\n",
       "Cartões amarelos Visitantes          510            804\n",
       "Cartões vermelhos Mandantes           27             46\n",
       "Cartões vermelhos visitantes          40             52"
      ]
     },
     "execution_count": 124,
     "metadata": {},
     "output_type": "execute_result"
    }
   ],
   "source": [
    "dados1 = {\"Eredivisie\": [sum(holandes.HY), sum(holandes.AY), sum(holandes.HR), sum(holandes.AR)],\n",
    "          \"Primeira Liga\": [sum(portugues.HY), sum(portugues.AY), sum(portugues.HR), sum(portugues.AR)]}\n",
    "\n",
    "df = pd.DataFrame(dados1,\n",
    "                  index =['Cartões amarelos Mandantes','Cartões amarelos Visitantes',\n",
    "                          'Cartões vermelhos Mandantes','Cartões vermelhos visitantes'],)  \n",
    "df"
   ]
  },
  {
   "cell_type": "markdown",
   "metadata": {},
   "source": [
    "Em todos os quesitos a Primeira liga teve valores maiores que a Eredivisie, isso pode indicar que o campeonato português tenha jogos mais físicos ou a tolerância dos arbitros em relação à faltas seja menor em Portugal."
   ]
  },
  {
   "cell_type": "markdown",
   "metadata": {},
   "source": [
    "## Testes de hipóteses"
   ]
  },
  {
   "cell_type": "markdown",
   "metadata": {},
   "source": [
    "Uma das ferramentas estatísticas mais comuns são os testes de hipóteses. Eles consistem em testar alguma medida descritiva da(s) amostra(s) ou população(ões), sob as hipóteses inicial e alternativa; então, é calculado uma estatística do teste e, com base em um valor crítico de distribuição ou no p-valor associado, tomamos a decisão de rejeitar ou não a hipótese inicial.\n",
    "\n",
    "Aqui, todos os testes serão decididos com um nível de significância $\\alpha$ = 0.05, que será comparado com o p-valor calculado pelo teste."
   ]
  },
  {
   "cell_type": "markdown",
   "metadata": {},
   "source": [
    "### Média de gols por partida dos campeonatos"
   ]
  },
  {
   "cell_type": "markdown",
   "metadata": {},
   "source": [
    "Embora exista alguns contrapontos, é quase um consenso que quanto mais gols uma partida tiver, melhor e mais agradável de assistir ela será. Dessa forma, estamos interessados em saber se o campeonato holandês tem sua média de gols por jogo maior do que a do campeonato português. \n",
    "\n",
    "O teste adequado para isso é o t-student para amostras independentes, pois não conhecemos a variância populacional dos campeonatos (estamos olhando os dados de apenas uma temporada) e os dados dos campeonatos são independentes por natureza. \n",
    "\n",
    "Portanto, o primeiro passo é verificar se a variância dos gols dos campeonatos é igual ou significativamente diferentes:\n",
    "\n",
    "**Teste de Levene para igualdade de variâncias**\n",
    "\n",
    "$$ S_{Holandês}^2 = 3.64, S_{Português}^2 = 3.19 $$\n",
    "\n",
    "$H_0)$ A variância dos gols por partida na Eredivisie é igual que da Primeira Liga\n",
    "\n",
    "$H_1)$ A variância dos gols por partida na Eredivisie não é igual que da Primeira Liga"
   ]
  },
  {
   "cell_type": "code",
   "execution_count": 125,
   "metadata": {},
   "outputs": [
    {
     "data": {
      "text/plain": [
       "LeveneResult(statistic=1.1025303976339107, pvalue=0.29412726574780607)"
      ]
     },
     "execution_count": 125,
     "metadata": {},
     "output_type": "execute_result"
    }
   ],
   "source": [
    "gols_partida_holandes = []\n",
    "gols_partida_portugues = []\n",
    "\n",
    "for i in range(len(holandes)):\n",
    "    gols_partida_holandes.append(holandes.FTHG[i] + holandes.FTAG[i])\n",
    "    gols_partida_portugues.append(portugues.FTHG[i] + portugues.FTAG[i])\n",
    "\n",
    "est.levene(gols_partida_holandes, gols_partida_portugues)"
   ]
  },
  {
   "cell_type": "markdown",
   "metadata": {},
   "source": [
    "Como estamos usando um nível de significância $\\alpha = 0.05$ e o p-valor calculado foi de 0.29, não temos evidências suficientes para rejeitar a hipótese de igualdade de variâncias. Sendo assim, podemos realizar o teste paramétrico de médias:\n",
    "\n",
    "**Teste t para médias de amostras independentes**\n",
    "\n",
    "$$ \\bar{X}_{Holandês} = 3.47, \\bar{X}_{Português} = 2.7 $$\n",
    "\n",
    "\n",
    "$H_0)$ A média dos gols por partida na Eredivisie é menor ou igual que da Primeira Liga\n",
    "\n",
    "$H_1)$ A média dos gols por partida na Eredivisie é maior que da Primeira Liga"
   ]
  },
  {
   "cell_type": "code",
   "execution_count": 126,
   "metadata": {},
   "outputs": [
    {
     "data": {
      "text/plain": [
       "Ttest_indResult(statistic=5.138717667560027, pvalue=3.7289940001234133e-07)"
      ]
     },
     "execution_count": 126,
     "metadata": {},
     "output_type": "execute_result"
    }
   ],
   "source": [
    "est.ttest_ind(gols_partida_holandes, gols_partida_portugues)"
   ]
  },
  {
   "cell_type": "markdown",
   "metadata": {},
   "source": [
    "O teste calculou o p-valor de um teste bilateral e estamos interessados em um teste unilateral, basta dividir o p-valor calculado por dois.\n",
    "\n",
    "Então, como p-valor = $1.865 x 10^{-7} < \\alpha $, podemos rejeitar a hipótese nula e acreditar que a média de gols da Eredivisie é maior que da Primeira Liga, o que é um ponto a favor do campeonato Holandês."
   ]
  },
  {
   "cell_type": "markdown",
   "metadata": {},
   "source": [
    "### Média de chutes no gol por partida dos campeonatos"
   ]
  },
  {
   "cell_type": "markdown",
   "metadata": {},
   "source": [
    "Outro fator importante para tornar uma partida bacana, é a quantidade de chutes com risco de gol nela; até porque, apenas toque de bola e chutes isolados causam tédio e desinteresse. \n",
    "\n",
    "Vale ressaltar que, como a média dos gols da Eredivisie é significativamente maior que da Primeira Liga, é esperado que a quantidade de chutes no gol também seja. Contudo, caso esse teste não seja significativo, é um indício que a defesa dos portugueses é superior a dos holandeses.\n",
    "\n",
    "Assim sendo, temos primeiro o teste de Levene:\n",
    "\n",
    "**Teste de Levene para igualdade de variâncias**\n",
    "\n",
    "$$ S_{Holandês}^2 = 11.24, S_{Português}^2 = 9.1 $$\n",
    "\n",
    "$H_0)$ A variância dos chutes no gol por partida na Eredivisie é igual que da Primeira Liga\n",
    "\n",
    "$H_1)$ A variância dos chutes no gol por partida na Eredivisie não é igual que da Primeira Liga"
   ]
  },
  {
   "cell_type": "code",
   "execution_count": 127,
   "metadata": {},
   "outputs": [
    {
     "data": {
      "text/plain": [
       "LeveneResult(statistic=4.551380296804311, pvalue=0.033290601329870155)"
      ]
     },
     "execution_count": 127,
     "metadata": {},
     "output_type": "execute_result"
    }
   ],
   "source": [
    "chutegol_partida_holandes = []\n",
    "chutegol_partida_portugues = []\n",
    "\n",
    "for i in range(len(holandes)):\n",
    "    chutegol_partida_holandes.append(holandes.HST[i] + holandes.AST[i])\n",
    "    chutegol_partida_portugues.append(portugues.HST[i] + portugues.AST[i])\n",
    "\n",
    "est.levene(chutegol_partida_holandes, chutegol_partida_portugues)"
   ]
  },
  {
   "cell_type": "markdown",
   "metadata": {},
   "source": [
    "Como o p-valor de 0.03 foi menor que $\\alpha = 0.05$ rejeitamos $H_0$, ou seja, a variância dos chutes no gol dos dois campeonatos não é igual. Vale ressaltar que o p-valor foi relativamente próximo do nível de significância, então é uma decisão um pouco ambígua.\n",
    "\n",
    "Então, vamos para o teste t para variâncias diferentes:\n",
    "\n",
    "**Teste t para médias de amostras independentes**\n",
    "\n",
    "$$ \\bar{X}_{Holandês} = 10.22, \\bar{X}_{Português} = 8.49 $$\n",
    "\n",
    "$H_0)$ A média de chutes no gol por partida na Eredivisie é menor ou igual que da Primeira Liga\n",
    "\n",
    "$H_1)$ A média de chutes no gol por partida na Eredivisie é maior que da Primeira Liga"
   ]
  },
  {
   "cell_type": "code",
   "execution_count": 128,
   "metadata": {},
   "outputs": [
    {
     "data": {
      "text/plain": [
       "Ttest_indResult(statistic=6.7421566814751515, pvalue=3.6564779256112844e-11)"
      ]
     },
     "execution_count": 128,
     "metadata": {},
     "output_type": "execute_result"
    }
   ],
   "source": [
    "est.ttest_ind(chutegol_partida_holandes, chutegol_partida_portugues, equal_var = False)"
   ]
  },
  {
   "cell_type": "markdown",
   "metadata": {},
   "source": [
    "Novamente, precisamos dividir o p-valor por dois, para ter o p-valor do teste unilateral; dessa forma, temos um p-valor igual a $1.83 x 10^{-11} < 0.05$. Portanto, rejeitamos a hipótese nula e afirmamos que a média de chutes no gol por partida do campeonato holandês é maior do que a do português, como esperado."
   ]
  },
  {
   "cell_type": "markdown",
   "metadata": {},
   "source": [
    "### Média de faltas por partida dos campeonatos"
   ]
  },
  {
   "cell_type": "markdown",
   "metadata": {},
   "source": [
    "A última variável que faremos um teste t de médias é para as faltas por partida dos campeonatos. Como dito anteriormente, um número elevado de faltas pode tornar uma partida lenta e chata, contando como um ponto negativo caso alguma média seja significativamente maior do que a do outro torneio. Portanto:\n",
    "\n",
    "**Teste de Levene para igualdade de variâncias**\n",
    "\n",
    "$$ S_{Holandês}^2 = 27.53, S_{Português}^2 = 46.58 $$\n",
    "\n",
    "$H_0)$ A variância das faltas por partida na Eredivisie é igual que da Primeira Liga\n",
    "\n",
    "$H_1)$ A variância das faltas no gol por partida na Eredivisie não é igual que da Primeira Liga"
   ]
  },
  {
   "cell_type": "code",
   "execution_count": 129,
   "metadata": {},
   "outputs": [
    {
     "data": {
      "text/plain": [
       "LeveneResult(statistic=19.770102052259723, pvalue=1.0377805367015378e-05)"
      ]
     },
     "execution_count": 129,
     "metadata": {},
     "output_type": "execute_result"
    }
   ],
   "source": [
    "faltas_partida_holandes = []\n",
    "faltas_partida_portugues = []\n",
    "\n",
    "for i in range(len(holandes)):\n",
    "    faltas_partida_holandes.append(holandes.HF[i] + holandes.AF[i])\n",
    "    faltas_partida_portugues.append(portugues.HF[i] + portugues.AF[i])\n",
    "\n",
    "est.levene(faltas_partida_holandes, faltas_partida_portugues)"
   ]
  },
  {
   "cell_type": "markdown",
   "metadata": {},
   "source": [
    "Como o p-valor de $1.04 x 10^{-5}$ é menor do que o nível de significância utilizado, podemos rejeitar $H_{0}$ e dizer que a variância das faltas dos dois torneios são diferentes. Agora, vamos realizar o teste de médias apropriado:\n",
    "\n",
    "**Teste t para médias de amostras independentes**\n",
    "\n",
    "$$ \\bar{X}_{Português} = 32.44, \\bar{X}_{Holandês} = 22.64 $$\n",
    "\n",
    "$H_0)$ A média de faltas por partida na Primeira Liga é menor ou igual que da Eredivisie\n",
    "\n",
    "$H_1)$ A média de faltas por partida na Primeira Liga é maior que da Eredivisie"
   ]
  },
  {
   "cell_type": "code",
   "execution_count": 130,
   "metadata": {},
   "outputs": [
    {
     "data": {
      "text/plain": [
       "Ttest_indResult(statistic=19.90812323476125, pvalue=2.1054317703807706e-67)"
      ]
     },
     "execution_count": 130,
     "metadata": {},
     "output_type": "execute_result"
    }
   ],
   "source": [
    "est.ttest_ind(faltas_partida_portugues, faltas_partida_holandes, equal_var = False)"
   ]
  },
  {
   "cell_type": "markdown",
   "metadata": {},
   "source": [
    "Em um nível de significância de 5%, rejeitamos a hipótese inicial com p-valor igual a $2.105 x 10^{-67}$. Isso é, temos evidências para acreditar que a média de faltas do campeonato português é superior a do holandês, o que conta como um ponto negativo para a Primeira Liga."
   ]
  },
  {
   "cell_type": "markdown",
   "metadata": {},
   "source": [
    "### Correlação entre odds e chutes na partida"
   ]
  },
  {
   "cell_type": "markdown",
   "metadata": {},
   "source": [
    "Por fim, o último teste de hipóteses que será feito é para o $\\rho$ de Spearman, entre as variáveis Odds e chutes na partida. De maneira simplificada, o que queremos ver aqui é se as odds, que refletem as chances de um time ganhar, tem correlação significativa com a quantidade de chutes que aquele time realizou na partida.\n",
    "\n",
    "Como as odds são em escala inversa, isso é, quanto menor ela for melhores as chances do clube ganhar, uma correlação negativa significa que quanto mais ofensivo o time for, maiores as chances dele ser o vencedor e vice versa.\n",
    "\n",
    "Ou seja, o intuito desses teste é verificar se o campeonato holandês ou português favorecem times ofensivos, que são emocionantes de ver, ou times retranqueiros que tendem a ser mais entediantes. Então:\n",
    "\n",
    "**Teste de correlação de Spearman**\n",
    "\n",
    "$H_0)$ Chutes no gol e as odds do time na partida não são correlacionados\n",
    "\n",
    "$H_1)$ Chutes no gol e as odds do time na partida são correlacionados"
   ]
  },
  {
   "cell_type": "code",
   "execution_count": 131,
   "metadata": {},
   "outputs": [
    {
     "name": "stdout",
     "output_type": "stream",
     "text": [
      "Para times holandeses mandantes, o teste resultou em: \n",
      " SpearmanrResult(correlation=-0.5416151037050979, pvalue=1.005661149528596e-24)\n",
      "\n",
      "Para times holandeses visitantes, o teste resultou em: \n",
      " SpearmanrResult(correlation=-0.5364635338089871, pvalue=3.336554459751448e-24)\n",
      "\n",
      "Para times portugueses mandantes, o teste resultou em: \n",
      " SpearmanrResult(correlation=-0.4495786462509455, pvalue=1.248358885165716e-16)\n",
      "\n",
      "Para times portugueses visitantes, o teste resultou em: \n",
      " SpearmanrResult(correlation=-0.43010764445678035, pvalue=3.289139906438734e-15)\n",
      "\n"
     ]
    }
   ],
   "source": [
    "pais = [\"holandeses\", \"portugueses\"]\n",
    "liga = [holandes, portugues]\n",
    "\n",
    "for i in range(2):\n",
    "    print(\"Para times\", pais[i], \"mandantes, o teste resultou em: \\n\", est.spearmanr(liga[i].HS, liga[i].B365H))\n",
    "\n",
    "    print()\n",
    "\n",
    "    print(\"Para times\", pais[i], \"visitantes, o teste resultou em: \\n\", est.spearmanr(liga[i].AS, liga[i].B365A))\n",
    "\n",
    "    print()"
   ]
  },
  {
   "cell_type": "markdown",
   "metadata": {},
   "source": [
    "Usando o nível de significância $\\alpha$, rejeitamos $H_0$ em todos os quatro testes realizados. Então, temos correlação entre as chances do time sair vitorioso e quantos chutes ele tem na partida. Organizando os $rho$ em uma tabela para melhorar a visualização, temos:"
   ]
  },
  {
   "cell_type": "code",
   "execution_count": 132,
   "metadata": {},
   "outputs": [
    {
     "data": {
      "text/html": [
       "<div>\n",
       "<style scoped>\n",
       "    .dataframe tbody tr th:only-of-type {\n",
       "        vertical-align: middle;\n",
       "    }\n",
       "\n",
       "    .dataframe tbody tr th {\n",
       "        vertical-align: top;\n",
       "    }\n",
       "\n",
       "    .dataframe thead th {\n",
       "        text-align: right;\n",
       "    }\n",
       "</style>\n",
       "<table border=\"1\" class=\"dataframe\">\n",
       "  <thead>\n",
       "    <tr style=\"text-align: right;\">\n",
       "      <th></th>\n",
       "      <th>Mandantes</th>\n",
       "      <th>Visitantes</th>\n",
       "    </tr>\n",
       "  </thead>\n",
       "  <tbody>\n",
       "    <tr>\n",
       "      <th>Eredivisie</th>\n",
       "      <td>-0.542</td>\n",
       "      <td>-0.536</td>\n",
       "    </tr>\n",
       "    <tr>\n",
       "      <th>Primeira Liga</th>\n",
       "      <td>-0.450</td>\n",
       "      <td>-0.430</td>\n",
       "    </tr>\n",
       "  </tbody>\n",
       "</table>\n",
       "</div>"
      ],
      "text/plain": [
       "               Mandantes  Visitantes\n",
       "Eredivisie        -0.542      -0.536\n",
       "Primeira Liga     -0.450      -0.430"
      ]
     },
     "execution_count": 132,
     "metadata": {},
     "output_type": "execute_result"
    }
   ],
   "source": [
    "rhos = {\"Mandantes\": [-0.542, -0.45], \"Visitantes\": [-0.536, -0.43]}\n",
    "\n",
    "corr = pd.DataFrame(rhos, index = ['Eredivisie','Primeira Liga']) \n",
    "                                  \n",
    "corr"
   ]
  },
  {
   "cell_type": "markdown",
   "metadata": {},
   "source": [
    "Vemos então que na Eredivisie, a correlação de ambos os lados foi mais forte do que no campeonato português, o que significa que o torneio da Holanda favorece ainda mais um estilo de jogo ofensivo para o vencedor, em relação com a Primeira Liga."
   ]
  },
  {
   "cell_type": "markdown",
   "metadata": {},
   "source": [
    "## Análise de Cluster"
   ]
  },
  {
   "cell_type": "markdown",
   "metadata": {},
   "source": [
    "bla bla bla"
   ]
  },
  {
   "cell_type": "markdown",
   "metadata": {},
   "source": [
    "## Conclusão"
   ]
  },
  {
   "cell_type": "markdown",
   "metadata": {},
   "source": [
    "bla bla bla"
   ]
  },
  {
   "cell_type": "markdown",
   "metadata": {},
   "source": [
    "## Referências"
   ]
  },
  {
   "cell_type": "markdown",
   "metadata": {},
   "source": [
    "bla bla bla"
   ]
  }
 ],
 "metadata": {
  "kernelspec": {
   "display_name": "Python 3",
   "language": "python",
   "name": "python3"
  },
  "language_info": {
   "codemirror_mode": {
    "name": "ipython",
    "version": 3
   },
   "file_extension": ".py",
   "mimetype": "text/x-python",
   "name": "python",
   "nbconvert_exporter": "python",
   "pygments_lexer": "ipython3",
   "version": "3.8.5"
  }
 },
 "nbformat": 4,
 "nbformat_minor": 4
}
