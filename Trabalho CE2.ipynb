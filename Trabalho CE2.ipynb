{
 "cells": [
  {
   "cell_type": "markdown",
   "metadata": {},
   "source": [
    "# Trabalho CE2 - Eredivisie vs Primeira Liga\n",
    "\n",
    "Professor Eduardo Monteiro\n",
    "\n",
    "Matheus Erbisti - 180024990\n",
    "\n",
    "Ramon Moreira - 180036980"
   ]
  },
  {
   "cell_type": "markdown",
   "metadata": {},
   "source": [
    "## Introdução"
   ]
  },
  {
   "cell_type": "markdown",
   "metadata": {},
   "source": []
  },
  {
   "cell_type": "markdown",
   "metadata": {},
   "source": [
    "### Importação de Pacotes e Dados"
   ]
  },
  {
   "cell_type": "code",
   "execution_count": 1,
   "metadata": {},
   "outputs": [],
   "source": [
    "from matplotlib import pyplot as plt\n",
    "import pandas as pd\n",
    "import numpy as np\n",
    "import warnings\n",
    "\n",
    "holandes = pd.read_csv(\"Holandes.csv\")\n",
    "portugues = pd.read_csv(\"Portugues.csv\")\n",
    "\n",
    "warnings.filterwarnings(\"ignore\")"
   ]
  },
  {
   "cell_type": "markdown",
   "metadata": {},
   "source": [
    "## Análise Descritiva"
   ]
  },
  {
   "cell_type": "markdown",
   "metadata": {},
   "source": [
    "### Gols por jogo"
   ]
  },
  {
   "cell_type": "markdown",
   "metadata": {},
   "source": [
    "Essa variável é possivelmente a mais importante de todo o banco de dados. Afinal, o gol é o ápice do jogo de futebol, e é o que torna o jogo emocionante, seja pela dificuldade, quantidade ou falta dos gols.\n",
    "\n",
    "Dessa forma, podemos enxergar os dados de gols por jogo da seguinte maneira:"
   ]
  },
  {
   "cell_type": "code",
   "execution_count": 93,
   "metadata": {
    "scrolled": true
   },
   "outputs": [
    {
     "data": {
      "image/png": "[encoded data removed]",
      "text/plain": [
       "<Figure size 648x288 with 2 Axes>"
      ]
     },
     "metadata": {},
     "output_type": "display_data"
    }
   ],
   "source": [
    "plt.style.use('seaborn-white')\n",
    "\n",
    "gols_dentro = [holandes.FTHG, portugues.FTHG]\n",
    "gols_fora = [holandes.FTAG, portugues.FTAG]\n",
    "cores = [\"orange\", \"black\"]\n",
    "legendas = [\"Holandês\", \"Português\"]\n",
    "\n",
    "fig, (graf1, graf2) = plt.subplots(nrows = 1, ncols = 2, figsize = (9, 4))\n",
    "\n",
    "for i in range(2):\n",
    "    graf1.boxplot(gols_dentro[i], patch_artist = True, positions = [i + 1], \n",
    "                               boxprops = dict(facecolor = cores[i], color = cores[i + 1]),\n",
    "                               capprops = dict(color = cores[i + 1]),\n",
    "                               whiskerprops = dict(color = cores[i + 1]),\n",
    "                               flierprops = dict(color = cores[i + 1], markeredgecolor = cores[i + 1]),\n",
    "                               medianprops = dict(color = cores[i + 1]))\n",
    "    \n",
    "    graf2.boxplot(gols_fora[i], patch_artist = True, positions = [i + 1], \n",
    "                               boxprops = dict(facecolor = cores[i], color = cores[i + 1]),\n",
    "                               capprops = dict(color = cores[i + 1]),\n",
    "                               whiskerprops = dict(color = cores[i + 1]),\n",
    "                               flierprops = dict(color = cores[i + 1], markeredgecolor = cores[i + 1]),\n",
    "                               medianprops = dict(color = cores[i + 1]))\n",
    "    if i == 0:\n",
    "        cores[1] = \"#7E0008\"\n",
    "        cores.append(\"#006400\")\n",
    "\n",
    "graf1.set_title('Gols de mandantes')\n",
    "graf2.set_title('Gols de visitantes')\n",
    "graf1.set_xticklabels(['Holandes', 'Portugues'])\n",
    "graf2.set_xticklabels(['Holandes', 'Portugues'])\n",
    "plt.ylim(-0.5, 10)\n",
    "\n",
    "plt.show()"
   ]
  },
  {
   "cell_type": "code",
   "execution_count": 36,
   "metadata": {},
   "outputs": [
    {
     "data": {
      "text/html": [
       "<div>\n",
       "<style scoped>\n",
       "    .dataframe tbody tr th:only-of-type {\n",
       "        vertical-align: middle;\n",
       "    }\n",
       "\n",
       "    .dataframe tbody tr th {\n",
       "        vertical-align: top;\n",
       "    }\n",
       "\n",
       "    .dataframe thead th {\n",
       "        text-align: right;\n",
       "    }\n",
       "</style>\n",
       "<table border=\"1\" class=\"dataframe\">\n",
       "  <thead>\n",
       "    <tr style=\"text-align: right;\">\n",
       "      <th></th>\n",
       "      <th>holandes_casa</th>\n",
       "      <th>portugues_casa</th>\n",
       "      <th>holandes_fora</th>\n",
       "      <th>portugues_fora</th>\n",
       "    </tr>\n",
       "  </thead>\n",
       "  <tbody>\n",
       "    <tr>\n",
       "      <th>count</th>\n",
       "      <td>306.000000</td>\n",
       "      <td>306.000000</td>\n",
       "      <td>306.000000</td>\n",
       "      <td>306.000000</td>\n",
       "    </tr>\n",
       "    <tr>\n",
       "      <th>mean</th>\n",
       "      <td>2.006536</td>\n",
       "      <td>1.522876</td>\n",
       "      <td>1.460784</td>\n",
       "      <td>1.176471</td>\n",
       "    </tr>\n",
       "    <tr>\n",
       "      <th>std</th>\n",
       "      <td>1.584750</td>\n",
       "      <td>1.412288</td>\n",
       "      <td>1.416564</td>\n",
       "      <td>1.168536</td>\n",
       "    </tr>\n",
       "    <tr>\n",
       "      <th>min</th>\n",
       "      <td>0.000000</td>\n",
       "      <td>0.000000</td>\n",
       "      <td>0.000000</td>\n",
       "      <td>0.000000</td>\n",
       "    </tr>\n",
       "    <tr>\n",
       "      <th>25%</th>\n",
       "      <td>1.000000</td>\n",
       "      <td>1.000000</td>\n",
       "      <td>0.000000</td>\n",
       "      <td>0.000000</td>\n",
       "    </tr>\n",
       "    <tr>\n",
       "      <th>50%</th>\n",
       "      <td>2.000000</td>\n",
       "      <td>1.000000</td>\n",
       "      <td>1.000000</td>\n",
       "      <td>1.000000</td>\n",
       "    </tr>\n",
       "    <tr>\n",
       "      <th>75%</th>\n",
       "      <td>3.000000</td>\n",
       "      <td>2.000000</td>\n",
       "      <td>2.000000</td>\n",
       "      <td>2.000000</td>\n",
       "    </tr>\n",
       "    <tr>\n",
       "      <th>max</th>\n",
       "      <td>8.000000</td>\n",
       "      <td>10.000000</td>\n",
       "      <td>7.000000</td>\n",
       "      <td>8.000000</td>\n",
       "    </tr>\n",
       "  </tbody>\n",
       "</table>\n",
       "</div>"
      ],
      "text/plain": [
       "       holandes_casa  portugues_casa  holandes_fora  portugues_fora\n",
       "count     306.000000      306.000000     306.000000      306.000000\n",
       "mean        2.006536        1.522876       1.460784        1.176471\n",
       "std         1.584750        1.412288       1.416564        1.168536\n",
       "min         0.000000        0.000000       0.000000        0.000000\n",
       "25%         1.000000        1.000000       0.000000        0.000000\n",
       "50%         2.000000        1.000000       1.000000        1.000000\n",
       "75%         3.000000        2.000000       2.000000        2.000000\n",
       "max         8.000000       10.000000       7.000000        8.000000"
      ]
     },
     "execution_count": 36,
     "metadata": {},
     "output_type": "execute_result"
    }
   ],
   "source": [
    "gols = {'holandes_casa':holandes.FTHG, 'portugues_casa':portugues.FTHG,\n",
    "        'holandes_fora':holandes.FTAG, 'portugues_fora':portugues.FTAG}\n",
    "\n",
    "FTHG = pd.DataFrame(data = gols)\n",
    "\n",
    "FTHG.describe()"
   ]
  },
  {
   "cell_type": "markdown",
   "metadata": {},
   "source": [
    "Com esses gráficos e as medidas, podemos perceber diversos pontos:\n",
    "\n",
    "1 - Em ambos os campeonatos, o time que joga em casa costuma marcar mais gols. Isso é evidenciado pelo 1º quartil que é de 1 gol nos mandantes dos dois campeonatos, e 0 gols para os visitantes.\n",
    "\n",
    "2 - O campeonato holandês teve média superior de gols tanto para quem joga em casa e quem joga fora, embora o português tenha bem mais valores extremos.\n",
    "\n",
    "3 - De maneira geral, os times holandeses que jogam em casa fazem mais gols, como evidenciado por todos os quartis e média.\n",
    "\n",
    "4 - Os desvios padrões são bem próximos uns dos outros, com exceção dos times visitantes de Portugal que tende a ser mais consistente com a média que os demais."
   ]
  },
  {
   "cell_type": "markdown",
   "metadata": {},
   "source": [
    "### Chutes na partida"
   ]
  },
  {
   "cell_type": "markdown",
   "metadata": {},
   "source": [
    "Outra variável importante, pois se não há chutes, não há gols. De maneira simplista, a quantidade de chutes  mede o quão \"agitada\" e pró-ofensiva a partida foi; então, a tendência é que um jogo seja melhor quanto maior for o número de chutes.\n",
    "\n",
    "Portanto, vamos observar os dados:"
   ]
  },
  {
   "cell_type": "code",
   "execution_count": 4,
   "metadata": {},
   "outputs": [
    {
     "data": {
      "image/png": "[encoded data removed]",
      "text/plain": [
       "<Figure size 648x288 with 2 Axes>"
      ]
     },
     "metadata": {
      "needs_background": "light"
     },
     "output_type": "display_data"
    }
   ],
   "source": [
    "campeonatos = [holandes, portugues]\n",
    "cores = [\"orange\", \"#7E0008\"]\n",
    "legenda = [\"Holandês\", \"Português\"]\n",
    "\n",
    "fig, (graf1, graf2) = plt.subplots(nrows = 1, ncols = 2, figsize = (9, 4))\n",
    "\n",
    "for i in range(len(campeonatos)):\n",
    "    counts1, bins1 = np.histogram(campeonatos[i].HS, bins = range(0, 40, 1))\n",
    "    counts2, bins2 = np.histogram(campeonatos[i].AS, bins = range(0, 40, 1))\n",
    "    \n",
    "    graf1.plot(bins1[:-1] + 1, counts1, color = cores[i], label = legenda[i])\n",
    "    graf1.set_ylabel('Frequência')\n",
    "    graf1.set_title('Chutes na partida (Mandantes)')\n",
    "    \n",
    "    graf2.plot(bins2[:-1] + 1, counts2, color = cores[i], label = legenda[i])\n",
    "    graf2.set_title('Chutes na partida (Visitantes)')\n",
    "    \n",
    "\n",
    "plt.ylim(-1, 45)\n",
    "plt.legend()\n",
    "\n",
    "plt.show()"
   ]
  },
  {
   "cell_type": "code",
   "execution_count": 98,
   "metadata": {},
   "outputs": [
    {
     "data": {
      "text/html": [
       "<div>\n",
       "<style scoped>\n",
       "    .dataframe tbody tr th:only-of-type {\n",
       "        vertical-align: middle;\n",
       "    }\n",
       "\n",
       "    .dataframe tbody tr th {\n",
       "        vertical-align: top;\n",
       "    }\n",
       "\n",
       "    .dataframe thead th {\n",
       "        text-align: right;\n",
       "    }\n",
       "</style>\n",
       "<table border=\"1\" class=\"dataframe\">\n",
       "  <thead>\n",
       "    <tr style=\"text-align: right;\">\n",
       "      <th></th>\n",
       "      <th>chutes_mandante_holanda</th>\n",
       "      <th>chutes_mandante_portugal</th>\n",
       "      <th>chutes_visitante_holanda</th>\n",
       "      <th>chutes_visitante_portugal</th>\n",
       "    </tr>\n",
       "  </thead>\n",
       "  <tbody>\n",
       "    <tr>\n",
       "      <th>count</th>\n",
       "      <td>306.000000</td>\n",
       "      <td>306.000000</td>\n",
       "      <td>306.000000</td>\n",
       "      <td>306.000000</td>\n",
       "    </tr>\n",
       "    <tr>\n",
       "      <th>mean</th>\n",
       "      <td>15.375817</td>\n",
       "      <td>13.437908</td>\n",
       "      <td>12.006536</td>\n",
       "      <td>11.379085</td>\n",
       "    </tr>\n",
       "    <tr>\n",
       "      <th>std</th>\n",
       "      <td>6.002126</td>\n",
       "      <td>5.111645</td>\n",
       "      <td>5.226661</td>\n",
       "      <td>4.565022</td>\n",
       "    </tr>\n",
       "    <tr>\n",
       "      <th>min</th>\n",
       "      <td>3.000000</td>\n",
       "      <td>3.000000</td>\n",
       "      <td>2.000000</td>\n",
       "      <td>0.000000</td>\n",
       "    </tr>\n",
       "    <tr>\n",
       "      <th>25%</th>\n",
       "      <td>11.250000</td>\n",
       "      <td>10.000000</td>\n",
       "      <td>8.000000</td>\n",
       "      <td>8.000000</td>\n",
       "    </tr>\n",
       "    <tr>\n",
       "      <th>50%</th>\n",
       "      <td>14.500000</td>\n",
       "      <td>13.000000</td>\n",
       "      <td>12.000000</td>\n",
       "      <td>11.000000</td>\n",
       "    </tr>\n",
       "    <tr>\n",
       "      <th>75%</th>\n",
       "      <td>19.000000</td>\n",
       "      <td>17.000000</td>\n",
       "      <td>15.000000</td>\n",
       "      <td>15.000000</td>\n",
       "    </tr>\n",
       "    <tr>\n",
       "      <th>max</th>\n",
       "      <td>36.000000</td>\n",
       "      <td>31.000000</td>\n",
       "      <td>32.000000</td>\n",
       "      <td>25.000000</td>\n",
       "    </tr>\n",
       "  </tbody>\n",
       "</table>\n",
       "</div>"
      ],
      "text/plain": [
       "       chutes_mandante_holanda  chutes_mandante_portugal  \\\n",
       "count               306.000000                306.000000   \n",
       "mean                 15.375817                 13.437908   \n",
       "std                   6.002126                  5.111645   \n",
       "min                   3.000000                  3.000000   \n",
       "25%                  11.250000                 10.000000   \n",
       "50%                  14.500000                 13.000000   \n",
       "75%                  19.000000                 17.000000   \n",
       "max                  36.000000                 31.000000   \n",
       "\n",
       "       chutes_visitante_holanda  chutes_visitante_portugal  \n",
       "count                306.000000                 306.000000  \n",
       "mean                  12.006536                  11.379085  \n",
       "std                    5.226661                   4.565022  \n",
       "min                    2.000000                   0.000000  \n",
       "25%                    8.000000                   8.000000  \n",
       "50%                   12.000000                  11.000000  \n",
       "75%                   15.000000                  15.000000  \n",
       "max                   32.000000                  25.000000  "
      ]
     },
     "execution_count": 98,
     "metadata": {},
     "output_type": "execute_result"
    }
   ],
   "source": [
    "cht = {\"chutes_mandante_holanda\":holandes.HS, \"chutes_mandante_portugal\":portugues.HS,\n",
    "         \"chutes_visitante_holanda\":holandes.AS, \"chutes_visitante_portugal\":portugues.AS}\n",
    "\n",
    "chutes = pd.DataFrame(data = cht)\n",
    "\n",
    "chutes.describe()"
   ]
  },
  {
   "cell_type": "markdown",
   "metadata": {},
   "source": [
    "Diversas características dos dados puderam ser levantadas com base nesses recursos:\n",
    "    \n",
    "1 - Em ambos os campeonatos, os mandantes tendem a chutarem mais que os visitantes, como evidenciado pela média e os quartis. Entretanto, o desvio padrão também é maior, ou seja, é uma média menos consistente do que dos visitantes.\n",
    "\n",
    "2 - Os times holandeses costumam ter mais chutes por partida que os portugueses, tendo mais times que chutaram entre 18 a 40 vezes em partidas. Ainda assim, o menor desvio padrão dos clubes da Holanda é dos visitantes, que consegue ser maior do que o desvio padrão dos clubes portugueses que jogam em casa.\n",
    "\n",
    "3 - O maior valor de chutes numa partida em Portugal é de 31 em um time mandante, que é um valor inferior ao maior número de chutes de um clube visitante holandês com 32."
   ]
  },
  {
   "cell_type": "markdown",
   "metadata": {},
   "source": [
    "### Precisão dos chutes na partida"
   ]
  },
  {
   "cell_type": "markdown",
   "metadata": {},
   "source": [
    "Embora o número de chutes possa refletir bem a qualidade de uma partida, não é exatamente uma regra fixa; pode acontecer uma partida com 4 chutes e 4 gols, bem como uma partida com 30 chutes isolados.\n",
    "\n",
    "Seguindo essa lógica, os chutes com risco de gol são aqueles que transmitem emoção. Então, criamos uma nova variável \"Precisão\" para medir quantos chutes são direcionados ao gol em relação ao total. Portanto:"
   ]
  },
  {
   "cell_type": "code",
   "execution_count": 94,
   "metadata": {},
   "outputs": [
    {
     "data": {
      "image/png": "[encoded data removed]",
      "text/plain": [
       "<Figure size 648x576 with 4 Axes>"
      ]
     },
     "metadata": {},
     "output_type": "display_data"
    }
   ],
   "source": [
    "precisao_holandes_casa = []\n",
    "precisao_portugues_casa = []\n",
    "\n",
    "precisao_holandes_fora = []\n",
    "precisao_portugues_fora = []\n",
    "\n",
    "\n",
    "for i in range(len(holandes)):\n",
    "    precisao_casa_hd = holandes.HST[i] / holandes.HS[i]\n",
    "    precisao_casa_pt = portugues.HST[i] / portugues.HS[i]\n",
    "    \n",
    "    precisao_fora_hd = holandes.AST[i] / holandes.AS[i]\n",
    "    precisao_fora_pt = portugues.AST[i] / portugues.AS[i]\n",
    "    \n",
    "    \n",
    "    precisao_holandes_casa.append(precisao_casa_hd)\n",
    "    precisao_portugues_casa.append(precisao_casa_pt)\n",
    "    \n",
    "    precisao_holandes_fora.append(precisao_fora_hd)\n",
    "    precisao_portugues_fora.append(precisao_fora_pt)\n",
    "\n",
    "    \n",
    "    \n",
    "precisoes_casa = [precisao_holandes_casa, precisao_portugues_casa]\n",
    "precisoes_fora = [precisao_holandes_fora, precisao_portugues_fora]\n",
    "\n",
    "\n",
    "\n",
    "fig, grafs = plt.subplots(nrows = 2, ncols = 2, figsize = (9, 8), sharey = True)\n",
    "\n",
    "bins = np.linspace(0, 1, 10)\n",
    "\n",
    "\n",
    "grafs[0, 0].hist(precisao_holandes_casa, bins, rwidth = 1, color = \"orange\")\n",
    "grafs[0, 1].hist(precisao_holandes_fora, bins, rwidth = 1, color = \"orange\")\n",
    "grafs[1, 0].hist(precisao_portugues_casa, bins, rwidth = 1, color = \"#7E0008\")\n",
    "grafs[1, 1].hist(precisao_portugues_fora, bins, rwidth = 1, color = \"#7E0008\")\n",
    "\n",
    "grafs[0, 0].set_title(\"Precisão de chutes no gol (Mandantes)\")\n",
    "grafs[0, 1].set_title(\"Precisão de chutes no gol (Visitantes)\")\n",
    "\n",
    "grafs[0, 0].set_ylabel(\"Frequência\")\n",
    "grafs[1, 0].set_ylabel(\"Frequência\")\n",
    "\n",
    "plt.show()"
   ]
  },
  {
   "cell_type": "code",
   "execution_count": 99,
   "metadata": {},
   "outputs": [
    {
     "data": {
      "text/html": [
       "<div>\n",
       "<style scoped>\n",
       "    .dataframe tbody tr th:only-of-type {\n",
       "        vertical-align: middle;\n",
       "    }\n",
       "\n",
       "    .dataframe tbody tr th {\n",
       "        vertical-align: top;\n",
       "    }\n",
       "\n",
       "    .dataframe thead th {\n",
       "        text-align: right;\n",
       "    }\n",
       "</style>\n",
       "<table border=\"1\" class=\"dataframe\">\n",
       "  <thead>\n",
       "    <tr style=\"text-align: right;\">\n",
       "      <th></th>\n",
       "      <th>precisao_mandante_holanda</th>\n",
       "      <th>precisao_visitante_holanda</th>\n",
       "      <th>precisao_mandante_portugal</th>\n",
       "      <th>precisao_visitante_portugal</th>\n",
       "    </tr>\n",
       "  </thead>\n",
       "  <tbody>\n",
       "    <tr>\n",
       "      <th>count</th>\n",
       "      <td>306.000000</td>\n",
       "      <td>306.000000</td>\n",
       "      <td>306.000000</td>\n",
       "      <td>305.000000</td>\n",
       "    </tr>\n",
       "    <tr>\n",
       "      <th>mean</th>\n",
       "      <td>0.366567</td>\n",
       "      <td>0.368974</td>\n",
       "      <td>0.358170</td>\n",
       "      <td>0.333777</td>\n",
       "    </tr>\n",
       "    <tr>\n",
       "      <th>std</th>\n",
       "      <td>0.138417</td>\n",
       "      <td>0.157187</td>\n",
       "      <td>0.162449</td>\n",
       "      <td>0.142256</td>\n",
       "    </tr>\n",
       "    <tr>\n",
       "      <th>min</th>\n",
       "      <td>0.000000</td>\n",
       "      <td>0.000000</td>\n",
       "      <td>0.000000</td>\n",
       "      <td>0.000000</td>\n",
       "    </tr>\n",
       "    <tr>\n",
       "      <th>25%</th>\n",
       "      <td>0.272727</td>\n",
       "      <td>0.264035</td>\n",
       "      <td>0.250000</td>\n",
       "      <td>0.250000</td>\n",
       "    </tr>\n",
       "    <tr>\n",
       "      <th>50%</th>\n",
       "      <td>0.363636</td>\n",
       "      <td>0.363636</td>\n",
       "      <td>0.333333</td>\n",
       "      <td>0.333333</td>\n",
       "    </tr>\n",
       "    <tr>\n",
       "      <th>75%</th>\n",
       "      <td>0.466667</td>\n",
       "      <td>0.500000</td>\n",
       "      <td>0.453409</td>\n",
       "      <td>0.428571</td>\n",
       "    </tr>\n",
       "    <tr>\n",
       "      <th>max</th>\n",
       "      <td>0.714286</td>\n",
       "      <td>0.800000</td>\n",
       "      <td>1.000000</td>\n",
       "      <td>0.833333</td>\n",
       "    </tr>\n",
       "  </tbody>\n",
       "</table>\n",
       "</div>"
      ],
      "text/plain": [
       "       precisao_mandante_holanda  precisao_visitante_holanda  \\\n",
       "count                 306.000000                  306.000000   \n",
       "mean                    0.366567                    0.368974   \n",
       "std                     0.138417                    0.157187   \n",
       "min                     0.000000                    0.000000   \n",
       "25%                     0.272727                    0.264035   \n",
       "50%                     0.363636                    0.363636   \n",
       "75%                     0.466667                    0.500000   \n",
       "max                     0.714286                    0.800000   \n",
       "\n",
       "       precisao_mandante_portugal  precisao_visitante_portugal  \n",
       "count                  306.000000                   305.000000  \n",
       "mean                     0.358170                     0.333777  \n",
       "std                      0.162449                     0.142256  \n",
       "min                      0.000000                     0.000000  \n",
       "25%                      0.250000                     0.250000  \n",
       "50%                      0.333333                     0.333333  \n",
       "75%                      0.453409                     0.428571  \n",
       "max                      1.000000                     0.833333  "
      ]
     },
     "execution_count": 99,
     "metadata": {},
     "output_type": "execute_result"
    }
   ],
   "source": [
    "pcs = {\"precisao_mandante_holanda\":precisao_holandes_casa, \"precisao_visitante_holanda\":precisao_holandes_fora,\n",
    "       \"precisao_mandante_portugal\":precisao_portugues_casa, \"precisao_visitante_portugal\":precisao_portugues_fora}\n",
    "\n",
    "precisao = pd.DataFrame(data = pcs)\n",
    "\n",
    "precisao.describe()"
   ]
  },
  {
   "cell_type": "markdown",
   "metadata": {},
   "source": [
    "Dado a análise exploratória desses dados, vemos que:\n",
    "\n",
    "1 - A precisão dos times não parece ser muito afetada por jogar dentro ou fora de casa. Isso é evidenciado tanto pela médias, desvios padrões, quantis e gráficos dos mandantes e visitantes da mesma liga.\n",
    "\n",
    "2 - A distribuição dos dados aparenta não ser muito diferente em ambas as ligas, com todas as médias e medianas sendo bem próximas entre si, entre 33 a 37% de precisão. "
   ]
  },
  {
   "cell_type": "markdown",
   "metadata": {},
   "source": [
    "### Resultado da partida"
   ]
  },
  {
   "cell_type": "markdown",
   "metadata": {},
   "source": [
    "Uma maneira comum de medir o quão boa foi uma partida, é pela previsibilidade do seu resultado; afinal, se existe alguma tendência forte para algum lado ganhar, o jogo tende a ser menos emocionante.\n",
    "\n",
    "Pensando assim, montamos os seguintes gráficos para verificar as porcentagens de vitória para mandantes, visitantes ou empates:"
   ]
  },
  {
   "cell_type": "code",
   "execution_count": 77,
   "metadata": {},
   "outputs": [
    {
     "data": {
      "image/png": "[encoded data removed]",
      "text/plain": [
       "<Figure size 648x288 with 2 Axes>"
      ]
     },
     "metadata": {},
     "output_type": "display_data"
    }
   ],
   "source": [
    "resultados_holandes = [sum(holandes.FTR == \"H\"), sum(holandes.FTR == \"A\"), sum(holandes.FTR == \"D\")]\n",
    "resultados_portugues = [sum(portugues.FTR == \"H\"), sum(portugues.FTR == \"A\"), sum(portugues.FTR == \"D\")]\n",
    "legenda = [\"Mandantes\", \"Visitantes\", \"Empates\"]\n",
    "cores = [\"#2FA4E2\", \"#FF7FAB\", \"gray\"]\n",
    "\n",
    "fig, (graf1, graf2) = plt.subplots(nrows = 1, ncols = 2, figsize = (9, 4))\n",
    "\n",
    "graf1.pie(resultados_holandes, autopct='%1.1f%%', labels = legenda, shadow = True, startangle = 90, colors = cores)\n",
    "graf2.pie(resultados_portugues, autopct='%1.1f%%', labels = legenda, shadow = True, startangle = 90, colors = cores)\n",
    "\n",
    "graf1.axis('equal')\n",
    "graf2.axis('equal')\n",
    "\n",
    "graf1.set_title(\"Vitórias do Campeonato Holandês\")\n",
    "graf2.set_title(\"Vitórias do Campeonato Português\")\n",
    "\n",
    "\n",
    "plt.show()"
   ]
  },
  {
   "cell_type": "markdown",
   "metadata": {},
   "source": [
    "Com os gráficos acima, vemos que ambos os campeonatos tem estruturas bem parecidas, em que o time que joga em casa é quem tem maiores chances de ganhar, seguido pela vitória dos visitantes e por fim os empates.\n",
    "\n",
    "Contudo, o mais interessante seria que o campeonato fosse equiprovável para qualquer resultado, pois tornaria o campeonato mais imprevisível e emocionante. Nesse sentido, a Primeira Liga é quem parece mais balanceado, pois é menos orientado pra vitória dos times da casa do que a Eredivisie."
   ]
  },
  {
   "cell_type": "markdown",
   "metadata": {},
   "source": [
    "### Empates com gols"
   ]
  },
  {
   "cell_type": "markdown",
   "metadata": {},
   "source": [
    "O resultado final de uma partida deveria refletir o quão agitada e emocionante ela foi; contudo, nem sempre o futebol não segue essas regras. \n",
    "\n",
    "De maneira geral, há uma grande diferença entre um jogo terminar 0 a 0 e terminar num 3 a 3, ainda que ambos sejam empates e que  existam defensores de \"um bom 0 a 0\". \n",
    "\n",
    "Nesse raciocínio, criamos essa nova variável que mostra quantos empates que foram marcados pelo menos 1 gol para cada lado, e quantos acabaram sem gols. Sendo assim:"
   ]
  },
  {
   "cell_type": "code",
   "execution_count": 155,
   "metadata": {},
   "outputs": [
    {
     "data": {
      "image/png": "[encoded data removed]",
      "text/plain": [
       "<Figure size 432x288 with 1 Axes>"
      ]
     },
     "metadata": {},
     "output_type": "display_data"
    }
   ],
   "source": [
    "empates_hd = holandes[holandes.FTHG == holandes.FTAG]\n",
    "empates_pt = portugues[portugues.FTHG == portugues.FTAG]\n",
    "\n",
    "empates_hd.reset_index(inplace = True, drop = True)\n",
    "empates_pt.reset_index(inplace = True, drop = True)\n",
    "\n",
    "com_gols_hd = 0\n",
    "com_gols_pt = 0\n",
    "\n",
    "\n",
    "for jogo in range(len(empates_hd)):\n",
    "    if empates_hd.FTHG[jogo] != 0:\n",
    "        com_gols_hd += 1\n",
    "\n",
    "\n",
    "\n",
    "for jogo in range(len(empates_pt)):\n",
    "    if empates_pt.FTHG[jogo] != 0:\n",
    "        com_gols_pt += 1\n",
    "\n",
    "legenda = ['Sem gols', 'Com gols']\n",
    "hd = [len(empates_hd) - com_gols_hd, com_gols_hd]\n",
    "pt = [len(empates_pt) - com_gols_pt, com_gols_pt]\n",
    "\n",
    "x = np.arange(len(legenda))  # the label locations\n",
    "width = 0.35  # the width of the bars\n",
    "\n",
    "fig, ax = plt.subplots()\n",
    "rects1 = ax.bar(x - width/2, hd, width, label = 'Holandês', color = \"orange\")\n",
    "rects2 = ax.bar(x + width/2, pt, width, label = 'Português', color = \"#7E0008\")\n",
    "\n",
    "# Add some text for labels, title and custom x-axis tick labels, etc.\n",
    "ax.set_ylabel('Frequência')\n",
    "ax.set_title('Empates')\n",
    "ax.set_xticks(x)\n",
    "ax.set_xticklabels(legenda)\n",
    "ax.legend()\n",
    "\n",
    "fig.tight_layout()\n",
    "\n",
    "plt.show()"
   ]
  },
  {
   "cell_type": "code",
   "execution_count": 160,
   "metadata": {},
   "outputs": [
    {
     "data": {
      "text/html": [
       "<div>\n",
       "<style scoped>\n",
       "    .dataframe tbody tr th:only-of-type {\n",
       "        vertical-align: middle;\n",
       "    }\n",
       "\n",
       "    .dataframe tbody tr th {\n",
       "        vertical-align: top;\n",
       "    }\n",
       "\n",
       "    .dataframe thead th {\n",
       "        text-align: right;\n",
       "    }\n",
       "</style>\n",
       "<table border=\"1\" class=\"dataframe\">\n",
       "  <thead>\n",
       "    <tr style=\"text-align: right;\">\n",
       "      <th></th>\n",
       "      <th>holandes_empates</th>\n",
       "      <th>portugues_empates</th>\n",
       "    </tr>\n",
       "  </thead>\n",
       "  <tbody>\n",
       "    <tr>\n",
       "      <th>count</th>\n",
       "      <td>60.000000</td>\n",
       "      <td>62.000000</td>\n",
       "    </tr>\n",
       "    <tr>\n",
       "      <th>mean</th>\n",
       "      <td>1.266667</td>\n",
       "      <td>1.032258</td>\n",
       "    </tr>\n",
       "    <tr>\n",
       "      <th>std</th>\n",
       "      <td>0.989207</td>\n",
       "      <td>0.974557</td>\n",
       "    </tr>\n",
       "    <tr>\n",
       "      <th>min</th>\n",
       "      <td>0.000000</td>\n",
       "      <td>0.000000</td>\n",
       "    </tr>\n",
       "    <tr>\n",
       "      <th>25%</th>\n",
       "      <td>1.000000</td>\n",
       "      <td>0.000000</td>\n",
       "    </tr>\n",
       "    <tr>\n",
       "      <th>50%</th>\n",
       "      <td>1.000000</td>\n",
       "      <td>1.000000</td>\n",
       "    </tr>\n",
       "    <tr>\n",
       "      <th>75%</th>\n",
       "      <td>2.000000</td>\n",
       "      <td>1.750000</td>\n",
       "    </tr>\n",
       "    <tr>\n",
       "      <th>max</th>\n",
       "      <td>4.000000</td>\n",
       "      <td>4.000000</td>\n",
       "    </tr>\n",
       "  </tbody>\n",
       "</table>\n",
       "</div>"
      ],
      "text/plain": [
       "       holandes_empates  portugues_empates\n",
       "count         60.000000          62.000000\n",
       "mean           1.266667           1.032258\n",
       "std            0.989207           0.974557\n",
       "min            0.000000           0.000000\n",
       "25%            1.000000           0.000000\n",
       "50%            1.000000           1.000000\n",
       "75%            2.000000           1.750000\n",
       "max            4.000000           4.000000"
      ]
     },
     "execution_count": 160,
     "metadata": {},
     "output_type": "execute_result"
    }
   ],
   "source": [
    "empt = {'holandes_empates':empates_hd.FTHG, 'portugues_empates':empates_pt.FTHG}\n",
    "\n",
    "empates = pd.DataFrame(data = empt)\n",
    "\n",
    "empates.describe()"
   ]
  },
  {
   "cell_type": "markdown",
   "metadata": {},
   "source": [
    "Podemos perceber as seguintes curiosidades:\n",
    "\n",
    "1 - O número total de empates em ambas as ligas foi bem próximo, bem como o desvio padrão e o empate com maior número de gols.\n",
    "\n",
    "2 - Como demonstrado pelo gráfico, média e 1º quartil, o campeonato holandês tem proporcionalmente bem mais empates com gols do que os times portugueses. Esse é um indício de que a Eredivisie seja mais competitiva e emocionante que a Primeira Liga."
   ]
  }
 ],
 "metadata": {
  "kernelspec": {
   "display_name": "Python 3",
   "language": "python",
   "name": "python3"
  },
  "language_info": {
   "codemirror_mode": {
    "name": "ipython",
    "version": 3
   },
   "file_extension": ".py",
   "mimetype": "text/x-python",
   "name": "python",
   "nbconvert_exporter": "python",
   "pygments_lexer": "ipython3",
   "version": "3.8.5"
  }
 },
 "nbformat": 4,
 "nbformat_minor": 4
}
